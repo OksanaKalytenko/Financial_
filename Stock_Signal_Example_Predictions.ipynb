{
  "nbformat": 4,
  "nbformat_minor": 0,
  "metadata": {
    "colab": {
      "name": " Stock_Signal_Example_Predictions.ipynb",
      "provenance": [],
      "collapsed_sections": []
    },
    "kernelspec": {
      "display_name": "Python 3",
      "name": "python3"
    },
    "language_info": {
      "name": "python"
    }
  },
  "cells": [
    {
      "cell_type": "markdown",
      "metadata": {
        "id": "tCaUMAmRSJTx"
      },
      "source": [
        "The idea here is to get live quotes for a stock, create features (using RSI, Moving Averages, etc)\n",
        "\n",
        "Then train a simple tree model on those features against the custom target.\n",
        "\n",
        "You can use different API for finance data (yahoo finance, quandl etc)\n",
        "\n",
        "I am really found of financial markets. After reading some books, learning some machine learning tools for stock data modelling, future price prediction using datacrunch datasets and various ML models, I've got inspired to create this notebook.\n"
      ]
    },
    {
      "cell_type": "code",
      "metadata": {
        "id": "-2HA16KX0wjL"
      },
      "source": [
        "#pip install yfinance"
      ],
      "execution_count": 1,
      "outputs": []
    },
    {
      "cell_type": "code",
      "metadata": {
        "id": "t9B3xZCPztUf"
      },
      "source": [
        "import pandas_datareader.data as web\n",
        "import yfinance as yf \n",
        "import datetime as dt\n",
        "import urllib.request, json \n",
        "import os\n",
        "\n",
        "import matplotlib.pyplot as plt\n",
        "import seaborn as sns\n",
        "\n",
        "import pandas as pd\n",
        "import numpy as np\n",
        "\n",
        "import scipy as sp\n",
        "from scipy.stats import norm, skew\n",
        "from scipy.stats import spearmanr\n",
        "\n",
        "import xgboost as xgb\n",
        "import lightgbm as lgb\n",
        "\n",
        "from tqdm.auto import tqdm\n",
        "\n",
        "from sklearn import metrics\n",
        "from sklearn.metrics import mean_squared_error\n",
        "from sklearn.metrics import mean_absolute_error\n",
        "\n",
        "from sklearn import model_selection\n",
        "from sklearn.model_selection import TimeSeriesSplit\n",
        "from sklearn.model_selection._split import _BaseKFold, indexable, _num_samples\n"
      ],
      "execution_count": 2,
      "outputs": []
    },
    {
      "cell_type": "code",
      "metadata": {
        "colab": {
          "base_uri": "https://localhost:8080/"
        },
        "id": "PAS-ivBRBTrs",
        "outputId": "f70a447e-09a2-43cd-b900-282ca987ed85"
      },
      "source": [
        "#choose your dates and download your financial data\n",
        "start_date = '2021-02-28'\n",
        "end_date = '2014-01-01'\n",
        "raw_data = {ticker: yf.download(ticker, end_date, start_date) for ticker in ['SPY', 'AAPL', 'IBM', 'MSFT', 'GOOG']}"
      ],
      "execution_count": 3,
      "outputs": [
        {
          "output_type": "stream",
          "text": [
            "[*********************100%***********************]  1 of 1 completed\n",
            "[*********************100%***********************]  1 of 1 completed\n",
            "[*********************100%***********************]  1 of 1 completed\n",
            "[*********************100%***********************]  1 of 1 completed\n",
            "[*********************100%***********************]  1 of 1 completed\n"
          ],
          "name": "stdout"
        }
      ]
    },
    {
      "cell_type": "code",
      "metadata": {
        "colab": {
          "base_uri": "https://localhost:8080/",
          "height": 450
        },
        "id": "K5uDAkr8J1ei",
        "outputId": "f911bedd-4110-403a-a40c-f77919a9f9b0"
      },
      "source": [
        "#To make a simple example I will use only one stock, but you can use your own universe of securities\n",
        "\n",
        "data = raw_data['AAPL']\n",
        "data"
      ],
      "execution_count": 4,
      "outputs": [
        {
          "output_type": "execute_result",
          "data": {
            "text/html": [
              "<div>\n",
              "<style scoped>\n",
              "    .dataframe tbody tr th:only-of-type {\n",
              "        vertical-align: middle;\n",
              "    }\n",
              "\n",
              "    .dataframe tbody tr th {\n",
              "        vertical-align: top;\n",
              "    }\n",
              "\n",
              "    .dataframe thead th {\n",
              "        text-align: right;\n",
              "    }\n",
              "</style>\n",
              "<table border=\"1\" class=\"dataframe\">\n",
              "  <thead>\n",
              "    <tr style=\"text-align: right;\">\n",
              "      <th></th>\n",
              "      <th>Open</th>\n",
              "      <th>High</th>\n",
              "      <th>Low</th>\n",
              "      <th>Close</th>\n",
              "      <th>Adj Close</th>\n",
              "      <th>Volume</th>\n",
              "    </tr>\n",
              "    <tr>\n",
              "      <th>Date</th>\n",
              "      <th></th>\n",
              "      <th></th>\n",
              "      <th></th>\n",
              "      <th></th>\n",
              "      <th></th>\n",
              "      <th></th>\n",
              "    </tr>\n",
              "  </thead>\n",
              "  <tbody>\n",
              "    <tr>\n",
              "      <th>2014-01-02</th>\n",
              "      <td>19.845715</td>\n",
              "      <td>19.893929</td>\n",
              "      <td>19.715000</td>\n",
              "      <td>19.754642</td>\n",
              "      <td>17.598297</td>\n",
              "      <td>234684800</td>\n",
              "    </tr>\n",
              "    <tr>\n",
              "      <th>2014-01-03</th>\n",
              "      <td>19.745001</td>\n",
              "      <td>19.775000</td>\n",
              "      <td>19.301071</td>\n",
              "      <td>19.320715</td>\n",
              "      <td>17.211735</td>\n",
              "      <td>392467600</td>\n",
              "    </tr>\n",
              "    <tr>\n",
              "      <th>2014-01-06</th>\n",
              "      <td>19.194643</td>\n",
              "      <td>19.528570</td>\n",
              "      <td>19.057142</td>\n",
              "      <td>19.426071</td>\n",
              "      <td>17.305593</td>\n",
              "      <td>412610800</td>\n",
              "    </tr>\n",
              "    <tr>\n",
              "      <th>2014-01-07</th>\n",
              "      <td>19.440001</td>\n",
              "      <td>19.498571</td>\n",
              "      <td>19.211430</td>\n",
              "      <td>19.287144</td>\n",
              "      <td>17.181829</td>\n",
              "      <td>317209200</td>\n",
              "    </tr>\n",
              "    <tr>\n",
              "      <th>2014-01-08</th>\n",
              "      <td>19.243214</td>\n",
              "      <td>19.484285</td>\n",
              "      <td>19.238930</td>\n",
              "      <td>19.409286</td>\n",
              "      <td>17.290642</td>\n",
              "      <td>258529600</td>\n",
              "    </tr>\n",
              "    <tr>\n",
              "      <th>...</th>\n",
              "      <td>...</td>\n",
              "      <td>...</td>\n",
              "      <td>...</td>\n",
              "      <td>...</td>\n",
              "      <td>...</td>\n",
              "      <td>...</td>\n",
              "    </tr>\n",
              "    <tr>\n",
              "      <th>2021-02-22</th>\n",
              "      <td>128.009995</td>\n",
              "      <td>129.720001</td>\n",
              "      <td>125.599998</td>\n",
              "      <td>126.000000</td>\n",
              "      <td>126.000000</td>\n",
              "      <td>103916400</td>\n",
              "    </tr>\n",
              "    <tr>\n",
              "      <th>2021-02-23</th>\n",
              "      <td>123.760002</td>\n",
              "      <td>126.709999</td>\n",
              "      <td>118.389999</td>\n",
              "      <td>125.860001</td>\n",
              "      <td>125.860001</td>\n",
              "      <td>158273000</td>\n",
              "    </tr>\n",
              "    <tr>\n",
              "      <th>2021-02-24</th>\n",
              "      <td>124.940002</td>\n",
              "      <td>125.559998</td>\n",
              "      <td>122.230003</td>\n",
              "      <td>125.349998</td>\n",
              "      <td>125.349998</td>\n",
              "      <td>111039900</td>\n",
              "    </tr>\n",
              "    <tr>\n",
              "      <th>2021-02-25</th>\n",
              "      <td>124.680000</td>\n",
              "      <td>126.459999</td>\n",
              "      <td>120.540001</td>\n",
              "      <td>120.989998</td>\n",
              "      <td>120.989998</td>\n",
              "      <td>148199500</td>\n",
              "    </tr>\n",
              "    <tr>\n",
              "      <th>2021-02-26</th>\n",
              "      <td>122.589996</td>\n",
              "      <td>124.849998</td>\n",
              "      <td>121.199997</td>\n",
              "      <td>121.260002</td>\n",
              "      <td>121.260002</td>\n",
              "      <td>164320000</td>\n",
              "    </tr>\n",
              "  </tbody>\n",
              "</table>\n",
              "<p>1801 rows × 6 columns</p>\n",
              "</div>"
            ],
            "text/plain": [
              "                  Open        High  ...   Adj Close     Volume\n",
              "Date                                ...                       \n",
              "2014-01-02   19.845715   19.893929  ...   17.598297  234684800\n",
              "2014-01-03   19.745001   19.775000  ...   17.211735  392467600\n",
              "2014-01-06   19.194643   19.528570  ...   17.305593  412610800\n",
              "2014-01-07   19.440001   19.498571  ...   17.181829  317209200\n",
              "2014-01-08   19.243214   19.484285  ...   17.290642  258529600\n",
              "...                ...         ...  ...         ...        ...\n",
              "2021-02-22  128.009995  129.720001  ...  126.000000  103916400\n",
              "2021-02-23  123.760002  126.709999  ...  125.860001  158273000\n",
              "2021-02-24  124.940002  125.559998  ...  125.349998  111039900\n",
              "2021-02-25  124.680000  126.459999  ...  120.989998  148199500\n",
              "2021-02-26  122.589996  124.849998  ...  121.260002  164320000\n",
              "\n",
              "[1801 rows x 6 columns]"
            ]
          },
          "metadata": {
            "tags": []
          },
          "execution_count": 4
        }
      ]
    },
    {
      "cell_type": "code",
      "metadata": {
        "colab": {
          "base_uri": "https://localhost:8080/",
          "height": 500
        },
        "id": "wzFJvMe_1b5b",
        "outputId": "e4fd1afd-737c-4003-da71-0a21c9838a6b"
      },
      "source": [
        "plt.figure(figsize=(16,8))\n",
        "plt.plot(data['Adj Close'], label='Price History')"
      ],
      "execution_count": 5,
      "outputs": [
        {
          "output_type": "execute_result",
          "data": {
            "text/plain": [
              "[<matplotlib.lines.Line2D at 0x7f7fd29d20d0>]"
            ]
          },
          "metadata": {
            "tags": []
          },
          "execution_count": 5
        },
        {
          "output_type": "display_data",
          "data": {
            "image/png": "[encoded data removed]",
            "text/plain": [
              "<Figure size 1152x576 with 1 Axes>"
            ]
          },
          "metadata": {
            "tags": [],
            "needs_background": "light"
          }
        }
      ]
    },
    {
      "cell_type": "code",
      "metadata": {
        "id": "z_LUHFZJD3fy"
      },
      "source": [
        "# Quick example of daily returns \n",
        "#AAPL\n",
        "returns = data['Adj Close'].pct_change()"
      ],
      "execution_count": 6,
      "outputs": []
    },
    {
      "cell_type": "code",
      "metadata": {
        "colab": {
          "base_uri": "https://localhost:8080/",
          "height": 500
        },
        "id": "_TpoEmh0EHXJ",
        "outputId": "10e31606-e4c6-473a-80a7-81c2918af2ad"
      },
      "source": [
        "plt.figure(figsize=(16,8))\n",
        "plt.plot(returns, label='Daily Returns History')"
      ],
      "execution_count": 7,
      "outputs": [
        {
          "output_type": "execute_result",
          "data": {
            "text/plain": [
              "[<matplotlib.lines.Line2D at 0x7f7fd1240950>]"
            ]
          },
          "metadata": {
            "tags": []
          },
          "execution_count": 7
        },
        {
          "output_type": "display_data",
          "data": {
            "image/png": "[encoded data removed]",
            "text/plain": [
              "<Figure size 1152x576 with 1 Axes>"
            ]
          },
          "metadata": {
            "tags": [],
            "needs_background": "light"
          }
        }
      ]
    },
    {
      "cell_type": "code",
      "metadata": {
        "colab": {
          "base_uri": "https://localhost:8080/",
          "height": 277
        },
        "id": "NVlsuIAxESSG",
        "outputId": "a14a00cd-0913-49d5-a3d7-7457984cad94"
      },
      "source": [
        "norm_returns = (returns - returns.mean(axis=0))/returns.std(axis=0)\n",
        "norm_returns.loc['2020-01-01':'2021-01-01'].plot();"
      ],
      "execution_count": 8,
      "outputs": [
        {
          "output_type": "display_data",
          "data": {
            "image/png": "[encoded data removed]",
            "text/plain": [
              "<Figure size 432x288 with 1 Axes>"
            ]
          },
          "metadata": {
            "tags": [],
            "needs_background": "light"
          }
        }
      ]
    },
    {
      "cell_type": "code",
      "metadata": {
        "colab": {
          "base_uri": "https://localhost:8080/",
          "height": 364
        },
        "id": "WSR481yVESVI",
        "outputId": "0d5f0968-6857-4eed-bcd0-47534b7ed079"
      },
      "source": [
        "print ('Standard Deviation: ', returns.std())\n",
        "print ('Mean: ', returns.mean())\n",
        "\n",
        "print('Skewness: ', returns.skew())\n",
        "print('Kurtosis: ', returns.kurtosis())\n",
        "\n",
        "sns.histplot(returns)"
      ],
      "execution_count": 9,
      "outputs": [
        {
          "output_type": "stream",
          "text": [
            "Standard Deviation:  0.018064731354045783\n",
            "Mean:  0.001236164176741415\n",
            "Skewness:  -0.0858688095464458\n",
            "Kurtosis:  6.805857484706831\n"
          ],
          "name": "stdout"
        },
        {
          "output_type": "execute_result",
          "data": {
            "text/plain": [
              "<matplotlib.axes._subplots.AxesSubplot at 0x7f7fcfc4c8d0>"
            ]
          },
          "metadata": {
            "tags": []
          },
          "execution_count": 9
        },
        {
          "output_type": "display_data",
          "data": {
            "image/png": "[encoded data removed]",
            "text/plain": [
              "<Figure size 432x288 with 1 Axes>"
            ]
          },
          "metadata": {
            "tags": [],
            "needs_background": "light"
          }
        }
      ]
    },
    {
      "cell_type": "markdown",
      "metadata": {
        "id": "y5ZBYChRi7Vj"
      },
      "source": [
        "I like the kurtosis of this stock returns and the fact that it's a little bit negative skew. However we see some fat tails (both sides), but let's be honest how without them. =)\n"
      ]
    },
    {
      "cell_type": "code",
      "metadata": {
        "id": "jBNyCt23K_hP"
      },
      "source": [
        "data.rename(columns={'Adj Close': 'Price'}, inplace=True)"
      ],
      "execution_count": 10,
      "outputs": []
    },
    {
      "cell_type": "code",
      "metadata": {
        "id": "PxsMb5Nv1g-6"
      },
      "source": [
        "# Let's make our own target\n",
        "\n",
        "#6day-2day (four market days) ranked returns for every market date\n",
        "period_returns = pd.DataFrame(data['Price'].pct_change(4))\n",
        "\n",
        "period_ranks = period_returns.rank(pct=True, method=\"first\")\n",
        "#period_ranks = period_ranks.rename(columns={\"Price\": \"AAPL\"})"
      ],
      "execution_count": 11,
      "outputs": []
    },
    {
      "cell_type": "code",
      "metadata": {
        "id": "UYtt85pOGyK3"
      },
      "source": [
        " # bin ranked returns \n",
        "period_ranks_bins = pd.cut(\n",
        "    period_ranks['Price'],\n",
        "    bins=[0, 0.05, 0.25, 0.75, 0.95, 1],\n",
        "    right=True,\n",
        "    labels=[0, 0.25, 0.50, 0.75, 1],\n",
        "    include_lowest=True\n",
        ")"
      ],
      "execution_count": 12,
      "outputs": []
    },
    {
      "cell_type": "code",
      "metadata": {
        "colab": {
          "base_uri": "https://localhost:8080/",
          "height": 235
        },
        "id": "c5WcZoWALSfR",
        "outputId": "592b4f1c-5c0a-4d20-b09f-a56db7a92a96"
      },
      "source": [
        "data['target'] = pd.to_numeric(period_ranks_bins)\n",
        "data.tail()"
      ],
      "execution_count": 13,
      "outputs": [
        {
          "output_type": "execute_result",
          "data": {
            "text/html": [
              "<div>\n",
              "<style scoped>\n",
              "    .dataframe tbody tr th:only-of-type {\n",
              "        vertical-align: middle;\n",
              "    }\n",
              "\n",
              "    .dataframe tbody tr th {\n",
              "        vertical-align: top;\n",
              "    }\n",
              "\n",
              "    .dataframe thead th {\n",
              "        text-align: right;\n",
              "    }\n",
              "</style>\n",
              "<table border=\"1\" class=\"dataframe\">\n",
              "  <thead>\n",
              "    <tr style=\"text-align: right;\">\n",
              "      <th></th>\n",
              "      <th>Open</th>\n",
              "      <th>High</th>\n",
              "      <th>Low</th>\n",
              "      <th>Close</th>\n",
              "      <th>Price</th>\n",
              "      <th>Volume</th>\n",
              "      <th>target</th>\n",
              "    </tr>\n",
              "    <tr>\n",
              "      <th>Date</th>\n",
              "      <th></th>\n",
              "      <th></th>\n",
              "      <th></th>\n",
              "      <th></th>\n",
              "      <th></th>\n",
              "      <th></th>\n",
              "      <th></th>\n",
              "    </tr>\n",
              "  </thead>\n",
              "  <tbody>\n",
              "    <tr>\n",
              "      <th>2021-02-22</th>\n",
              "      <td>128.009995</td>\n",
              "      <td>129.720001</td>\n",
              "      <td>125.599998</td>\n",
              "      <td>126.000000</td>\n",
              "      <td>126.000000</td>\n",
              "      <td>103916400</td>\n",
              "      <td>0.00</td>\n",
              "    </tr>\n",
              "    <tr>\n",
              "      <th>2021-02-23</th>\n",
              "      <td>123.760002</td>\n",
              "      <td>126.709999</td>\n",
              "      <td>118.389999</td>\n",
              "      <td>125.860001</td>\n",
              "      <td>125.860001</td>\n",
              "      <td>158273000</td>\n",
              "      <td>0.25</td>\n",
              "    </tr>\n",
              "    <tr>\n",
              "      <th>2021-02-24</th>\n",
              "      <td>124.940002</td>\n",
              "      <td>125.559998</td>\n",
              "      <td>122.230003</td>\n",
              "      <td>125.349998</td>\n",
              "      <td>125.349998</td>\n",
              "      <td>111039900</td>\n",
              "      <td>0.25</td>\n",
              "    </tr>\n",
              "    <tr>\n",
              "      <th>2021-02-25</th>\n",
              "      <td>124.680000</td>\n",
              "      <td>126.459999</td>\n",
              "      <td>120.540001</td>\n",
              "      <td>120.989998</td>\n",
              "      <td>120.989998</td>\n",
              "      <td>148199500</td>\n",
              "      <td>0.00</td>\n",
              "    </tr>\n",
              "    <tr>\n",
              "      <th>2021-02-26</th>\n",
              "      <td>122.589996</td>\n",
              "      <td>124.849998</td>\n",
              "      <td>121.199997</td>\n",
              "      <td>121.260002</td>\n",
              "      <td>121.260002</td>\n",
              "      <td>164320000</td>\n",
              "      <td>0.25</td>\n",
              "    </tr>\n",
              "  </tbody>\n",
              "</table>\n",
              "</div>"
            ],
            "text/plain": [
              "                  Open        High         Low  ...       Price     Volume  target\n",
              "Date                                            ...                               \n",
              "2021-02-22  128.009995  129.720001  125.599998  ...  126.000000  103916400    0.00\n",
              "2021-02-23  123.760002  126.709999  118.389999  ...  125.860001  158273000    0.25\n",
              "2021-02-24  124.940002  125.559998  122.230003  ...  125.349998  111039900    0.25\n",
              "2021-02-25  124.680000  126.459999  120.540001  ...  120.989998  148199500    0.00\n",
              "2021-02-26  122.589996  124.849998  121.199997  ...  121.260002  164320000    0.25\n",
              "\n",
              "[5 rows x 7 columns]"
            ]
          },
          "metadata": {
            "tags": []
          },
          "execution_count": 13
        }
      ]
    },
    {
      "cell_type": "markdown",
      "metadata": {
        "id": "5cPia3wHHsrT"
      },
      "source": [
        " \n",
        "\n",
        "For this example, we'll use RSI, EMA, SMA and CMA\n",
        "\n",
        "\n",
        " - RSI is a technical indicator that attempts to measure how \"oversold\" or \"overbought\" a stock is. A good heuristic: an RSI > 70 indicates a stock is overbought and an RSI < 30 indicates a stock is oversold.\n",
        "\n",
        " - Moving Averages:\n",
        "\n",
        "  - Simple Moving Average (SMA): Simple Moving Average (SMA) uses a sliding window to take the average over a set number of time periods. It is an equally weighted mean of the previous n data. \n",
        "\n",
        "  - An exponential moving average (EMA) is a type of moving average (MA) that places a greater weight and significance on the most recent data points. The exponential moving average is also referred to as the exponentially weighted moving average. An exponentially weighted moving average reacts more significantly to recent price changes than a simple moving average (SMA), which dataies an equal weight to all observations in the period.\n",
        "\n",
        "  - Cumulative Moving Average (CMA): Unlike simple moving average which drops the oldest observation as the new one gets added, cumulative moving average considers all prior observations. CMA is not a very good technique for analyzing trends and smoothing out the data. "
      ]
    },
    {
      "cell_type": "code",
      "metadata": {
        "id": "DUE72AtQHrjK"
      },
      "source": [
        "# more info about RSI here: https://www.investopedia.com/terms/r/rsi.asp\n",
        "\n",
        "def RSI(prices, n = 14):\n",
        "  deltas = prices.diff()\n",
        "\n",
        "  up, down = deltas.copy(), deltas.copy()\n",
        "\n",
        "  up[up < 0] = 0\n",
        "  down[down > 0] = 0\n",
        "\n",
        "\n",
        "  rolup = up.rolling(n).mean()\n",
        "  roldown = down.rolling(n).mean().abs()\n",
        "\n",
        "  rs = rolup/roldown\n",
        "  rsi = 100 - 100/(1+rs)\n",
        "\n",
        "  return rsi\n",
        "\n",
        "\n",
        "def EMA (values, window):\n",
        "  \n",
        "  weights = np.exp(np.linspace(-1, 0, window))\n",
        "  weights/= weights.sum()\n",
        "  a = np.convolve(values, weights, mode = 'full')[:len(values)]\n",
        "  a[:window] = a[window]\n",
        "\n",
        "  return a"
      ],
      "execution_count": 14,
      "outputs": []
    },
    {
      "cell_type": "code",
      "metadata": {
        "id": "bFK3Bk0eMMjC"
      },
      "source": [
        "# you can find different kind of moving averages following this link:  https://www.datacamp.com/community/tutorials/moving-averages-in-pandas\n",
        "\n",
        "#RSI\n",
        "data['RSI'] = RSI(data['Price'], 14)\n",
        "#EMA\n",
        "data['EMA_15'] = EMA(data['Price'], 15)\n",
        "data['EMA_12'] = EMA(data['Price'], 12)\n",
        "data['EMA_26'] = EMA(data['Price'], 26)\n",
        "data['EMA_9'] = EMA(data['Price'], 9)\n",
        "#SMA\n",
        "data['SMA_5'] = data['Price'].rolling(window=5).mean()\n",
        "data['SMA_20'] = data['Price'].rolling(window=20).mean()\n",
        "#CMA\n",
        "data['CMA_5'] = data['Price'].expanding(min_periods=5).mean()\n",
        "data['CMA_20'] = data['Price'].expanding(min_periods=20).mean()\n"
      ],
      "execution_count": 15,
      "outputs": []
    },
    {
      "cell_type": "code",
      "metadata": {
        "id": "BAHLk3_6QhHT"
      },
      "source": [
        "data['RSI_quintile'] = data['RSI'].transform(lambda group: pd.qcut(group, 5, labels=False, duplicates='drop'))\n",
        "data.dropna(inplace=True)"
      ],
      "execution_count": 16,
      "outputs": []
    },
    {
      "cell_type": "code",
      "metadata": {
        "id": "R4iWAgRBN4HV"
      },
      "source": [
        "#create lagged features, lag 0 is that day's value, lag 1 is yesterday's value, etc\n",
        "num_days = 3\n",
        "for day in range(num_days+1):\n",
        "    data[f'RSI_quintile_lag_{day}'] = data['RSI_quintile'].transform(lambda group: group.shift(day))"
      ],
      "execution_count": 17,
      "outputs": []
    },
    {
      "cell_type": "code",
      "metadata": {
        "id": "5gqflzq1O-cX"
      },
      "source": [
        "# create difference of the lagged features (change in RSI quintile by day)\n",
        "for day in range(num_days):\n",
        "    data[f'RSI_diff_{day}'] = data[f'RSI_quintile_lag_{day}'] - data[f'RSI_quintile_lag_{day + 1}']\n",
        "    data[f'RSI_abs_diff_{day}'] = np.abs(data[f'RSI_quintile_lag_{day}'] - data[f'RSI_quintile_lag_{day + 1}'])"
      ],
      "execution_count": 18,
      "outputs": []
    },
    {
      "cell_type": "code",
      "metadata": {
        "colab": {
          "base_uri": "https://localhost:8080/"
        },
        "id": "ZRhLfJO2O-gP",
        "outputId": "f0080688-b406-42e3-cc65-7fb36f1c0a2a"
      },
      "source": [
        "data['RSI_quintile_lag_1'].unique()"
      ],
      "execution_count": 19,
      "outputs": [
        {
          "output_type": "execute_result",
          "data": {
            "text/plain": [
              "array([nan,  0.,  1.,  4.,  3.,  2.])"
            ]
          },
          "metadata": {
            "tags": []
          },
          "execution_count": 19
        }
      ]
    },
    {
      "cell_type": "code",
      "metadata": {
        "id": "h-lX2HLvN4LN"
      },
      "source": [
        "data = data.drop(columns=['Open', 'High', 'Low', 'Close'])"
      ],
      "execution_count": 20,
      "outputs": []
    },
    {
      "cell_type": "markdown",
      "metadata": {
        "id": "iLLdGhUd5hLB"
      },
      "source": [
        "Next I will add S&P 500 index to our data and calculate relative strength of our stock to S&P 500. We will understand if the stock can outperform S&P 500 and give us a better returns.\n",
        "\n",
        "The S&P 500, or simply the S&P, is a stock market index that measures the stock performance of 500 large companies listed on stock exchanges in the United States. It is one of the most commonly followed equity indices. It might be a good idea to know the situation on the market in general and S&P can give us some clue.\n"
      ]
    },
    {
      "cell_type": "code",
      "metadata": {
        "colab": {
          "base_uri": "https://localhost:8080/",
          "height": 286
        },
        "id": "4_h7s8Sy8Tav",
        "outputId": "4ecf66ee-5ba6-4876-ae09-4288ede65eeb"
      },
      "source": [
        "data['SPY'] = raw_data['SPY']['Adj Close']\n",
        "\n",
        "data['AAPL to SPY'] = data['Price']/data['SPY']\n",
        "\n",
        "data['AAPL to SPY'].plot()"
      ],
      "execution_count": 21,
      "outputs": [
        {
          "output_type": "execute_result",
          "data": {
            "text/plain": [
              "<matplotlib.axes._subplots.AxesSubplot at 0x7f7fcfa780d0>"
            ]
          },
          "metadata": {
            "tags": []
          },
          "execution_count": 21
        },
        {
          "output_type": "display_data",
          "data": {
            "image/png": "[encoded data removed]",
            "text/plain": [
              "<Figure size 432x288 with 1 Axes>"
            ]
          },
          "metadata": {
            "tags": [],
            "needs_background": "light"
          }
        }
      ]
    },
    {
      "cell_type": "markdown",
      "metadata": {
        "id": "yycc7I3NBIxz"
      },
      "source": [
        "Next I will get some sectors indices data.\n",
        "\n",
        "Intermarket analysis is a method of analyzing markets by examining the correlations between different asset classes. In other words, what happens in one market could, and probably does, affect other markets, so a study of the relationship(s) could prove to be beneficial to the trader/investor.\n",
        "\n",
        "And with that knowledge you can crate new features (for example the XLY to XLP ratio: when XLY is outperforming XLP, this generally means that risk appetite is increasing, and vice-versa)\n",
        "\n",
        "There are lots of books about intermarket analysis and one may find it useful or not. It's up to you to decide, but you can definitely check out John Murphy's books.\n",
        "\n",
        "Sectors: \n",
        " - XLC (Communication Services)\n",
        " - XLY (Consumer Discretionary) \n",
        " - XLP (Consumer Staples)\n",
        " - XLE (Energy) \n",
        " - XLF (Financial) \n",
        " - XLV (Health Care) \n",
        " - XLI (Industrial) \n",
        " - XLB (Materials) \n",
        " - XLRE (Real Estate)\n",
        " - XLK (Technology)\n",
        " - XLU (Utilities) "
      ]
    },
    {
      "cell_type": "code",
      "metadata": {
        "colab": {
          "base_uri": "https://localhost:8080/"
        },
        "id": "4hJQojWj2B31",
        "outputId": "7eba6ac2-7c43-433e-a3b6-51b812851591"
      },
      "source": [
        "data_indx = {ticker: yf.download(ticker, end_date, start_date) for ticker in ['XLK', 'XLV', 'XLC', 'XLY', 'XLU','XLI', 'XLB', 'XLRE', 'XLF','XLE', 'XLP']}"
      ],
      "execution_count": 22,
      "outputs": [
        {
          "output_type": "stream",
          "text": [
            "[*********************100%***********************]  1 of 1 completed\n",
            "[*********************100%***********************]  1 of 1 completed\n",
            "[*********************100%***********************]  1 of 1 completed\n",
            "[*********************100%***********************]  1 of 1 completed\n",
            "[*********************100%***********************]  1 of 1 completed\n",
            "[*********************100%***********************]  1 of 1 completed\n",
            "[*********************100%***********************]  1 of 1 completed\n",
            "[*********************100%***********************]  1 of 1 completed\n",
            "[*********************100%***********************]  1 of 1 completed\n",
            "[*********************100%***********************]  1 of 1 completed\n",
            "[*********************100%***********************]  1 of 1 completed\n"
          ],
          "name": "stdout"
        }
      ]
    },
    {
      "cell_type": "code",
      "metadata": {
        "colab": {
          "base_uri": "https://localhost:8080/",
          "height": 235
        },
        "id": "u_zgLvIX2B7z",
        "outputId": "eb33c9dc-a9f4-4d53-e828-f1295087b85b"
      },
      "source": [
        "price = pd.DataFrame({ticker:data['Adj Close'] for ticker, data in data_indx.items()})\n",
        "volume = pd.DataFrame({ticker: data['Volume'] for ticker, data in data_indx.items()})\n",
        "price.head()"
      ],
      "execution_count": 23,
      "outputs": [
        {
          "output_type": "execute_result",
          "data": {
            "text/html": [
              "<div>\n",
              "<style scoped>\n",
              "    .dataframe tbody tr th:only-of-type {\n",
              "        vertical-align: middle;\n",
              "    }\n",
              "\n",
              "    .dataframe tbody tr th {\n",
              "        vertical-align: top;\n",
              "    }\n",
              "\n",
              "    .dataframe thead th {\n",
              "        text-align: right;\n",
              "    }\n",
              "</style>\n",
              "<table border=\"1\" class=\"dataframe\">\n",
              "  <thead>\n",
              "    <tr style=\"text-align: right;\">\n",
              "      <th></th>\n",
              "      <th>XLK</th>\n",
              "      <th>XLV</th>\n",
              "      <th>XLC</th>\n",
              "      <th>XLY</th>\n",
              "      <th>XLU</th>\n",
              "      <th>XLI</th>\n",
              "      <th>XLB</th>\n",
              "      <th>XLRE</th>\n",
              "      <th>XLF</th>\n",
              "      <th>XLE</th>\n",
              "      <th>XLP</th>\n",
              "    </tr>\n",
              "    <tr>\n",
              "      <th>Date</th>\n",
              "      <th></th>\n",
              "      <th></th>\n",
              "      <th></th>\n",
              "      <th></th>\n",
              "      <th></th>\n",
              "      <th></th>\n",
              "      <th></th>\n",
              "      <th></th>\n",
              "      <th></th>\n",
              "      <th></th>\n",
              "      <th></th>\n",
              "    </tr>\n",
              "  </thead>\n",
              "  <tbody>\n",
              "    <tr>\n",
              "      <th>2014-01-02</th>\n",
              "      <td>31.635607</td>\n",
              "      <td>48.964443</td>\n",
              "      <td>NaN</td>\n",
              "      <td>60.359074</td>\n",
              "      <td>29.262381</td>\n",
              "      <td>44.611477</td>\n",
              "      <td>39.634243</td>\n",
              "      <td>NaN</td>\n",
              "      <td>15.348507</td>\n",
              "      <td>66.050415</td>\n",
              "      <td>35.017899</td>\n",
              "    </tr>\n",
              "    <tr>\n",
              "      <th>2014-01-03</th>\n",
              "      <td>31.483644</td>\n",
              "      <td>49.079899</td>\n",
              "      <td>NaN</td>\n",
              "      <td>60.195759</td>\n",
              "      <td>29.168468</td>\n",
              "      <td>44.732685</td>\n",
              "      <td>39.539173</td>\n",
              "      <td>NaN</td>\n",
              "      <td>15.454405</td>\n",
              "      <td>65.808189</td>\n",
              "      <td>34.951900</td>\n",
              "    </tr>\n",
              "    <tr>\n",
              "      <th>2014-01-06</th>\n",
              "      <td>31.429996</td>\n",
              "      <td>48.875614</td>\n",
              "      <td>NaN</td>\n",
              "      <td>59.823719</td>\n",
              "      <td>29.215427</td>\n",
              "      <td>44.472954</td>\n",
              "      <td>39.323051</td>\n",
              "      <td>NaN</td>\n",
              "      <td>15.468535</td>\n",
              "      <td>65.899025</td>\n",
              "      <td>34.819920</td>\n",
              "    </tr>\n",
              "    <tr>\n",
              "      <th>2014-01-07</th>\n",
              "      <td>31.716059</td>\n",
              "      <td>49.390736</td>\n",
              "      <td>NaN</td>\n",
              "      <td>60.186691</td>\n",
              "      <td>29.473692</td>\n",
              "      <td>44.749985</td>\n",
              "      <td>39.253902</td>\n",
              "      <td>NaN</td>\n",
              "      <td>15.475589</td>\n",
              "      <td>66.398659</td>\n",
              "      <td>35.009647</td>\n",
              "    </tr>\n",
              "    <tr>\n",
              "      <th>2014-01-08</th>\n",
              "      <td>31.716059</td>\n",
              "      <td>49.825954</td>\n",
              "      <td>NaN</td>\n",
              "      <td>60.023350</td>\n",
              "      <td>29.317163</td>\n",
              "      <td>44.672077</td>\n",
              "      <td>39.487289</td>\n",
              "      <td>NaN</td>\n",
              "      <td>15.525008</td>\n",
              "      <td>65.936859</td>\n",
              "      <td>34.745667</td>\n",
              "    </tr>\n",
              "  </tbody>\n",
              "</table>\n",
              "</div>"
            ],
            "text/plain": [
              "                  XLK        XLV  XLC  ...        XLF        XLE        XLP\n",
              "Date                                   ...                                 \n",
              "2014-01-02  31.635607  48.964443  NaN  ...  15.348507  66.050415  35.017899\n",
              "2014-01-03  31.483644  49.079899  NaN  ...  15.454405  65.808189  34.951900\n",
              "2014-01-06  31.429996  48.875614  NaN  ...  15.468535  65.899025  34.819920\n",
              "2014-01-07  31.716059  49.390736  NaN  ...  15.475589  66.398659  35.009647\n",
              "2014-01-08  31.716059  49.825954  NaN  ...  15.525008  65.936859  34.745667\n",
              "\n",
              "[5 rows x 11 columns]"
            ]
          },
          "metadata": {
            "tags": []
          },
          "execution_count": 23
        }
      ]
    },
    {
      "cell_type": "code",
      "metadata": {
        "colab": {
          "base_uri": "https://localhost:8080/",
          "height": 657
        },
        "id": "J1yCQauV1frJ",
        "outputId": "2e403949-70c8-491c-f946-c630c8054e6c"
      },
      "source": [
        "data['XLK'] = price['XLK']  #tech sector\n",
        "data['AAPL/XLK'] = data['Price'] / price['XLK']\n",
        "data['XLK/SPY'] = price['XLK']/data['SPY']\n",
        "\n",
        "data['XLY/XLP'] = price['XLY'] / price['XLP']\n",
        "\n",
        "data"
      ],
      "execution_count": 24,
      "outputs": [
        {
          "output_type": "execute_result",
          "data": {
            "text/html": [
              "<div>\n",
              "<style scoped>\n",
              "    .dataframe tbody tr th:only-of-type {\n",
              "        vertical-align: middle;\n",
              "    }\n",
              "\n",
              "    .dataframe tbody tr th {\n",
              "        vertical-align: top;\n",
              "    }\n",
              "\n",
              "    .dataframe thead th {\n",
              "        text-align: right;\n",
              "    }\n",
              "</style>\n",
              "<table border=\"1\" class=\"dataframe\">\n",
              "  <thead>\n",
              "    <tr style=\"text-align: right;\">\n",
              "      <th></th>\n",
              "      <th>Price</th>\n",
              "      <th>Volume</th>\n",
              "      <th>target</th>\n",
              "      <th>RSI</th>\n",
              "      <th>EMA_15</th>\n",
              "      <th>EMA_12</th>\n",
              "      <th>EMA_26</th>\n",
              "      <th>EMA_9</th>\n",
              "      <th>SMA_5</th>\n",
              "      <th>SMA_20</th>\n",
              "      <th>CMA_5</th>\n",
              "      <th>CMA_20</th>\n",
              "      <th>RSI_quintile</th>\n",
              "      <th>RSI_quintile_lag_0</th>\n",
              "      <th>RSI_quintile_lag_1</th>\n",
              "      <th>RSI_quintile_lag_2</th>\n",
              "      <th>RSI_quintile_lag_3</th>\n",
              "      <th>RSI_diff_0</th>\n",
              "      <th>RSI_abs_diff_0</th>\n",
              "      <th>RSI_diff_1</th>\n",
              "      <th>RSI_abs_diff_1</th>\n",
              "      <th>RSI_diff_2</th>\n",
              "      <th>RSI_abs_diff_2</th>\n",
              "      <th>SPY</th>\n",
              "      <th>AAPL to SPY</th>\n",
              "      <th>XLK</th>\n",
              "      <th>AAPL/XLK</th>\n",
              "      <th>XLK/SPY</th>\n",
              "      <th>XLY/XLP</th>\n",
              "    </tr>\n",
              "    <tr>\n",
              "      <th>Date</th>\n",
              "      <th></th>\n",
              "      <th></th>\n",
              "      <th></th>\n",
              "      <th></th>\n",
              "      <th></th>\n",
              "      <th></th>\n",
              "      <th></th>\n",
              "      <th></th>\n",
              "      <th></th>\n",
              "      <th></th>\n",
              "      <th></th>\n",
              "      <th></th>\n",
              "      <th></th>\n",
              "      <th></th>\n",
              "      <th></th>\n",
              "      <th></th>\n",
              "      <th></th>\n",
              "      <th></th>\n",
              "      <th></th>\n",
              "      <th></th>\n",
              "      <th></th>\n",
              "      <th></th>\n",
              "      <th></th>\n",
              "      <th></th>\n",
              "      <th></th>\n",
              "      <th></th>\n",
              "      <th></th>\n",
              "      <th></th>\n",
              "      <th></th>\n",
              "    </tr>\n",
              "  </thead>\n",
              "  <tbody>\n",
              "    <tr>\n",
              "      <th>2014-01-30</th>\n",
              "      <td>15.900919</td>\n",
              "      <td>678501600</td>\n",
              "      <td>0.00</td>\n",
              "      <td>35.357839</td>\n",
              "      <td>17.175884</td>\n",
              "      <td>17.265969</td>\n",
              "      <td>17.023314</td>\n",
              "      <td>17.131168</td>\n",
              "      <td>16.567144</td>\n",
              "      <td>17.157902</td>\n",
              "      <td>17.157902</td>\n",
              "      <td>17.157902</td>\n",
              "      <td>0.0</td>\n",
              "      <td>0.0</td>\n",
              "      <td>NaN</td>\n",
              "      <td>NaN</td>\n",
              "      <td>NaN</td>\n",
              "      <td>NaN</td>\n",
              "      <td>NaN</td>\n",
              "      <td>NaN</td>\n",
              "      <td>NaN</td>\n",
              "      <td>NaN</td>\n",
              "      <td>NaN</td>\n",
              "      <td>155.873276</td>\n",
              "      <td>0.102012</td>\n",
              "      <td>31.054565</td>\n",
              "      <td>0.512032</td>\n",
              "      <td>0.199230</td>\n",
              "      <td>1.711173</td>\n",
              "    </tr>\n",
              "    <tr>\n",
              "      <th>2014-01-31</th>\n",
              "      <td>15.927006</td>\n",
              "      <td>464797200</td>\n",
              "      <td>0.00</td>\n",
              "      <td>36.821474</td>\n",
              "      <td>17.139654</td>\n",
              "      <td>17.184619</td>\n",
              "      <td>17.023314</td>\n",
              "      <td>17.040153</td>\n",
              "      <td>16.277810</td>\n",
              "      <td>17.074338</td>\n",
              "      <td>17.099288</td>\n",
              "      <td>17.099288</td>\n",
              "      <td>0.0</td>\n",
              "      <td>0.0</td>\n",
              "      <td>0.0</td>\n",
              "      <td>NaN</td>\n",
              "      <td>NaN</td>\n",
              "      <td>0.0</td>\n",
              "      <td>0.0</td>\n",
              "      <td>NaN</td>\n",
              "      <td>NaN</td>\n",
              "      <td>NaN</td>\n",
              "      <td>NaN</td>\n",
              "      <td>154.960114</td>\n",
              "      <td>0.102781</td>\n",
              "      <td>31.126081</td>\n",
              "      <td>0.511693</td>\n",
              "      <td>0.200865</td>\n",
              "      <td>1.695281</td>\n",
              "    </tr>\n",
              "    <tr>\n",
              "      <th>2014-02-03</th>\n",
              "      <td>15.956603</td>\n",
              "      <td>401464000</td>\n",
              "      <td>0.50</td>\n",
              "      <td>35.849158</td>\n",
              "      <td>17.114710</td>\n",
              "      <td>17.046934</td>\n",
              "      <td>17.023314</td>\n",
              "      <td>16.886224</td>\n",
              "      <td>15.966206</td>\n",
              "      <td>17.011581</td>\n",
              "      <td>17.047348</td>\n",
              "      <td>17.047348</td>\n",
              "      <td>0.0</td>\n",
              "      <td>0.0</td>\n",
              "      <td>0.0</td>\n",
              "      <td>0.0</td>\n",
              "      <td>NaN</td>\n",
              "      <td>0.0</td>\n",
              "      <td>0.0</td>\n",
              "      <td>0.0</td>\n",
              "      <td>0.0</td>\n",
              "      <td>NaN</td>\n",
              "      <td>NaN</td>\n",
              "      <td>151.472687</td>\n",
              "      <td>0.105343</td>\n",
              "      <td>30.473516</td>\n",
              "      <td>0.523622</td>\n",
              "      <td>0.201182</td>\n",
              "      <td>1.687180</td>\n",
              "    </tr>\n",
              "    <tr>\n",
              "      <th>2014-02-04</th>\n",
              "      <td>16.187578</td>\n",
              "      <td>376681200</td>\n",
              "      <td>0.50</td>\n",
              "      <td>33.991790</td>\n",
              "      <td>17.086833</td>\n",
              "      <td>16.921443</td>\n",
              "      <td>17.023314</td>\n",
              "      <td>16.711278</td>\n",
              "      <td>15.980777</td>\n",
              "      <td>16.955680</td>\n",
              "      <td>17.009967</td>\n",
              "      <td>17.009967</td>\n",
              "      <td>0.0</td>\n",
              "      <td>0.0</td>\n",
              "      <td>0.0</td>\n",
              "      <td>0.0</td>\n",
              "      <td>0.0</td>\n",
              "      <td>0.0</td>\n",
              "      <td>0.0</td>\n",
              "      <td>0.0</td>\n",
              "      <td>0.0</td>\n",
              "      <td>0.0</td>\n",
              "      <td>0.0</td>\n",
              "      <td>152.533737</td>\n",
              "      <td>0.106125</td>\n",
              "      <td>30.589724</td>\n",
              "      <td>0.529184</td>\n",
              "      <td>0.200544</td>\n",
              "      <td>1.698919</td>\n",
              "    </tr>\n",
              "    <tr>\n",
              "      <th>2014-02-05</th>\n",
              "      <td>16.308481</td>\n",
              "      <td>328344800</td>\n",
              "      <td>0.75</td>\n",
              "      <td>29.699800</td>\n",
              "      <td>17.023361</td>\n",
              "      <td>16.851748</td>\n",
              "      <td>17.023314</td>\n",
              "      <td>16.491484</td>\n",
              "      <td>16.056117</td>\n",
              "      <td>16.912013</td>\n",
              "      <td>16.980738</td>\n",
              "      <td>16.980738</td>\n",
              "      <td>0.0</td>\n",
              "      <td>0.0</td>\n",
              "      <td>0.0</td>\n",
              "      <td>0.0</td>\n",
              "      <td>0.0</td>\n",
              "      <td>0.0</td>\n",
              "      <td>0.0</td>\n",
              "      <td>0.0</td>\n",
              "      <td>0.0</td>\n",
              "      <td>0.0</td>\n",
              "      <td>0.0</td>\n",
              "      <td>152.342377</td>\n",
              "      <td>0.107052</td>\n",
              "      <td>30.616547</td>\n",
              "      <td>0.532669</td>\n",
              "      <td>0.200972</td>\n",
              "      <td>1.699843</td>\n",
              "    </tr>\n",
              "    <tr>\n",
              "      <th>...</th>\n",
              "      <td>...</td>\n",
              "      <td>...</td>\n",
              "      <td>...</td>\n",
              "      <td>...</td>\n",
              "      <td>...</td>\n",
              "      <td>...</td>\n",
              "      <td>...</td>\n",
              "      <td>...</td>\n",
              "      <td>...</td>\n",
              "      <td>...</td>\n",
              "      <td>...</td>\n",
              "      <td>...</td>\n",
              "      <td>...</td>\n",
              "      <td>...</td>\n",
              "      <td>...</td>\n",
              "      <td>...</td>\n",
              "      <td>...</td>\n",
              "      <td>...</td>\n",
              "      <td>...</td>\n",
              "      <td>...</td>\n",
              "      <td>...</td>\n",
              "      <td>...</td>\n",
              "      <td>...</td>\n",
              "      <td>...</td>\n",
              "      <td>...</td>\n",
              "      <td>...</td>\n",
              "      <td>...</td>\n",
              "      <td>...</td>\n",
              "      <td>...</td>\n",
              "    </tr>\n",
              "    <tr>\n",
              "      <th>2021-02-22</th>\n",
              "      <td>126.000000</td>\n",
              "      <td>103916400</td>\n",
              "      <td>0.00</td>\n",
              "      <td>27.478138</td>\n",
              "      <td>134.252509</td>\n",
              "      <td>134.482016</td>\n",
              "      <td>134.384143</td>\n",
              "      <td>133.336136</td>\n",
              "      <td>129.922000</td>\n",
              "      <td>135.049167</td>\n",
              "      <td>44.692429</td>\n",
              "      <td>44.692429</td>\n",
              "      <td>0.0</td>\n",
              "      <td>0.0</td>\n",
              "      <td>1.0</td>\n",
              "      <td>0.0</td>\n",
              "      <td>0.0</td>\n",
              "      <td>-1.0</td>\n",
              "      <td>1.0</td>\n",
              "      <td>1.0</td>\n",
              "      <td>1.0</td>\n",
              "      <td>0.0</td>\n",
              "      <td>0.0</td>\n",
              "      <td>385.766510</td>\n",
              "      <td>0.326622</td>\n",
              "      <td>132.769730</td>\n",
              "      <td>0.949011</td>\n",
              "      <td>0.344171</td>\n",
              "      <td>2.564200</td>\n",
              "    </tr>\n",
              "    <tr>\n",
              "      <th>2021-02-23</th>\n",
              "      <td>125.860001</td>\n",
              "      <td>158273000</td>\n",
              "      <td>0.25</td>\n",
              "      <td>23.612542</td>\n",
              "      <td>133.964000</td>\n",
              "      <td>133.679603</td>\n",
              "      <td>134.551640</td>\n",
              "      <td>132.330446</td>\n",
              "      <td>128.456000</td>\n",
              "      <td>134.206829</td>\n",
              "      <td>44.737573</td>\n",
              "      <td>44.737573</td>\n",
              "      <td>0.0</td>\n",
              "      <td>0.0</td>\n",
              "      <td>0.0</td>\n",
              "      <td>1.0</td>\n",
              "      <td>0.0</td>\n",
              "      <td>0.0</td>\n",
              "      <td>0.0</td>\n",
              "      <td>-1.0</td>\n",
              "      <td>1.0</td>\n",
              "      <td>1.0</td>\n",
              "      <td>1.0</td>\n",
              "      <td>386.234985</td>\n",
              "      <td>0.325864</td>\n",
              "      <td>132.400497</td>\n",
              "      <td>0.950601</td>\n",
              "      <td>0.342798</td>\n",
              "      <td>2.543845</td>\n",
              "    </tr>\n",
              "    <tr>\n",
              "      <th>2021-02-24</th>\n",
              "      <td>125.349998</td>\n",
              "      <td>111039900</td>\n",
              "      <td>0.25</td>\n",
              "      <td>24.388722</td>\n",
              "      <td>133.538877</td>\n",
              "      <td>132.837180</td>\n",
              "      <td>134.826153</td>\n",
              "      <td>131.280440</td>\n",
              "      <td>127.358000</td>\n",
              "      <td>133.327009</td>\n",
              "      <td>44.782382</td>\n",
              "      <td>44.782382</td>\n",
              "      <td>0.0</td>\n",
              "      <td>0.0</td>\n",
              "      <td>0.0</td>\n",
              "      <td>0.0</td>\n",
              "      <td>1.0</td>\n",
              "      <td>0.0</td>\n",
              "      <td>0.0</td>\n",
              "      <td>0.0</td>\n",
              "      <td>0.0</td>\n",
              "      <td>-1.0</td>\n",
              "      <td>1.0</td>\n",
              "      <td>390.491028</td>\n",
              "      <td>0.321006</td>\n",
              "      <td>134.426239</td>\n",
              "      <td>0.932482</td>\n",
              "      <td>0.344249</td>\n",
              "      <td>2.572105</td>\n",
              "    </tr>\n",
              "    <tr>\n",
              "      <th>2021-02-25</th>\n",
              "      <td>120.989998</td>\n",
              "      <td>148199500</td>\n",
              "      <td>0.00</td>\n",
              "      <td>3.180044</td>\n",
              "      <td>133.032171</td>\n",
              "      <td>131.683201</td>\n",
              "      <td>134.971107</td>\n",
              "      <td>129.862817</td>\n",
              "      <td>125.613998</td>\n",
              "      <td>132.284107</td>\n",
              "      <td>44.824720</td>\n",
              "      <td>44.824720</td>\n",
              "      <td>0.0</td>\n",
              "      <td>0.0</td>\n",
              "      <td>0.0</td>\n",
              "      <td>0.0</td>\n",
              "      <td>0.0</td>\n",
              "      <td>0.0</td>\n",
              "      <td>0.0</td>\n",
              "      <td>0.0</td>\n",
              "      <td>0.0</td>\n",
              "      <td>0.0</td>\n",
              "      <td>0.0</td>\n",
              "      <td>381.081848</td>\n",
              "      <td>0.317491</td>\n",
              "      <td>129.726151</td>\n",
              "      <td>0.932657</td>\n",
              "      <td>0.340415</td>\n",
              "      <td>2.503759</td>\n",
              "    </tr>\n",
              "    <tr>\n",
              "      <th>2021-02-26</th>\n",
              "      <td>121.260002</td>\n",
              "      <td>164320000</td>\n",
              "      <td>0.25</td>\n",
              "      <td>4.784091</td>\n",
              "      <td>132.110425</td>\n",
              "      <td>130.561376</td>\n",
              "      <td>134.863287</td>\n",
              "      <td>128.226407</td>\n",
              "      <td>123.892000</td>\n",
              "      <td>131.502835</td>\n",
              "      <td>44.867160</td>\n",
              "      <td>44.867160</td>\n",
              "      <td>0.0</td>\n",
              "      <td>0.0</td>\n",
              "      <td>0.0</td>\n",
              "      <td>0.0</td>\n",
              "      <td>0.0</td>\n",
              "      <td>0.0</td>\n",
              "      <td>0.0</td>\n",
              "      <td>0.0</td>\n",
              "      <td>0.0</td>\n",
              "      <td>0.0</td>\n",
              "      <td>0.0</td>\n",
              "      <td>379.118286</td>\n",
              "      <td>0.319847</td>\n",
              "      <td>130.414703</td>\n",
              "      <td>0.929803</td>\n",
              "      <td>0.343995</td>\n",
              "      <td>2.555519</td>\n",
              "    </tr>\n",
              "  </tbody>\n",
              "</table>\n",
              "<p>1782 rows × 29 columns</p>\n",
              "</div>"
            ],
            "text/plain": [
              "                 Price     Volume  target  ...  AAPL/XLK   XLK/SPY   XLY/XLP\n",
              "Date                                       ...                              \n",
              "2014-01-30   15.900919  678501600    0.00  ...  0.512032  0.199230  1.711173\n",
              "2014-01-31   15.927006  464797200    0.00  ...  0.511693  0.200865  1.695281\n",
              "2014-02-03   15.956603  401464000    0.50  ...  0.523622  0.201182  1.687180\n",
              "2014-02-04   16.187578  376681200    0.50  ...  0.529184  0.200544  1.698919\n",
              "2014-02-05   16.308481  328344800    0.75  ...  0.532669  0.200972  1.699843\n",
              "...                ...        ...     ...  ...       ...       ...       ...\n",
              "2021-02-22  126.000000  103916400    0.00  ...  0.949011  0.344171  2.564200\n",
              "2021-02-23  125.860001  158273000    0.25  ...  0.950601  0.342798  2.543845\n",
              "2021-02-24  125.349998  111039900    0.25  ...  0.932482  0.344249  2.572105\n",
              "2021-02-25  120.989998  148199500    0.00  ...  0.932657  0.340415  2.503759\n",
              "2021-02-26  121.260002  164320000    0.25  ...  0.929803  0.343995  2.555519\n",
              "\n",
              "[1782 rows x 29 columns]"
            ]
          },
          "metadata": {
            "tags": []
          },
          "execution_count": 24
        }
      ]
    },
    {
      "cell_type": "code",
      "metadata": {
        "colab": {
          "base_uri": "https://localhost:8080/",
          "height": 657
        },
        "id": "w3dYCMzxTrIE",
        "outputId": "9c243a89-e074-49af-b30f-375e25696cd1"
      },
      "source": [
        "data = data[data.index.weekday==4] # ensure we have only fridays\n",
        "data"
      ],
      "execution_count": 25,
      "outputs": [
        {
          "output_type": "execute_result",
          "data": {
            "text/html": [
              "<div>\n",
              "<style scoped>\n",
              "    .dataframe tbody tr th:only-of-type {\n",
              "        vertical-align: middle;\n",
              "    }\n",
              "\n",
              "    .dataframe tbody tr th {\n",
              "        vertical-align: top;\n",
              "    }\n",
              "\n",
              "    .dataframe thead th {\n",
              "        text-align: right;\n",
              "    }\n",
              "</style>\n",
              "<table border=\"1\" class=\"dataframe\">\n",
              "  <thead>\n",
              "    <tr style=\"text-align: right;\">\n",
              "      <th></th>\n",
              "      <th>Price</th>\n",
              "      <th>Volume</th>\n",
              "      <th>target</th>\n",
              "      <th>RSI</th>\n",
              "      <th>EMA_15</th>\n",
              "      <th>EMA_12</th>\n",
              "      <th>EMA_26</th>\n",
              "      <th>EMA_9</th>\n",
              "      <th>SMA_5</th>\n",
              "      <th>SMA_20</th>\n",
              "      <th>CMA_5</th>\n",
              "      <th>CMA_20</th>\n",
              "      <th>RSI_quintile</th>\n",
              "      <th>RSI_quintile_lag_0</th>\n",
              "      <th>RSI_quintile_lag_1</th>\n",
              "      <th>RSI_quintile_lag_2</th>\n",
              "      <th>RSI_quintile_lag_3</th>\n",
              "      <th>RSI_diff_0</th>\n",
              "      <th>RSI_abs_diff_0</th>\n",
              "      <th>RSI_diff_1</th>\n",
              "      <th>RSI_abs_diff_1</th>\n",
              "      <th>RSI_diff_2</th>\n",
              "      <th>RSI_abs_diff_2</th>\n",
              "      <th>SPY</th>\n",
              "      <th>AAPL to SPY</th>\n",
              "      <th>XLK</th>\n",
              "      <th>AAPL/XLK</th>\n",
              "      <th>XLK/SPY</th>\n",
              "      <th>XLY/XLP</th>\n",
              "    </tr>\n",
              "    <tr>\n",
              "      <th>Date</th>\n",
              "      <th></th>\n",
              "      <th></th>\n",
              "      <th></th>\n",
              "      <th></th>\n",
              "      <th></th>\n",
              "      <th></th>\n",
              "      <th></th>\n",
              "      <th></th>\n",
              "      <th></th>\n",
              "      <th></th>\n",
              "      <th></th>\n",
              "      <th></th>\n",
              "      <th></th>\n",
              "      <th></th>\n",
              "      <th></th>\n",
              "      <th></th>\n",
              "      <th></th>\n",
              "      <th></th>\n",
              "      <th></th>\n",
              "      <th></th>\n",
              "      <th></th>\n",
              "      <th></th>\n",
              "      <th></th>\n",
              "      <th></th>\n",
              "      <th></th>\n",
              "      <th></th>\n",
              "      <th></th>\n",
              "      <th></th>\n",
              "      <th></th>\n",
              "    </tr>\n",
              "  </thead>\n",
              "  <tbody>\n",
              "    <tr>\n",
              "      <th>2014-01-31</th>\n",
              "      <td>15.927006</td>\n",
              "      <td>464797200</td>\n",
              "      <td>0.00</td>\n",
              "      <td>36.821474</td>\n",
              "      <td>17.139654</td>\n",
              "      <td>17.184619</td>\n",
              "      <td>17.023314</td>\n",
              "      <td>17.040153</td>\n",
              "      <td>16.277810</td>\n",
              "      <td>17.074338</td>\n",
              "      <td>17.099288</td>\n",
              "      <td>17.099288</td>\n",
              "      <td>0.0</td>\n",
              "      <td>0.0</td>\n",
              "      <td>0.0</td>\n",
              "      <td>NaN</td>\n",
              "      <td>NaN</td>\n",
              "      <td>0.0</td>\n",
              "      <td>0.0</td>\n",
              "      <td>NaN</td>\n",
              "      <td>NaN</td>\n",
              "      <td>NaN</td>\n",
              "      <td>NaN</td>\n",
              "      <td>154.960114</td>\n",
              "      <td>0.102781</td>\n",
              "      <td>31.126081</td>\n",
              "      <td>0.511693</td>\n",
              "      <td>0.200865</td>\n",
              "      <td>1.695281</td>\n",
              "    </tr>\n",
              "    <tr>\n",
              "      <th>2014-02-07</th>\n",
              "      <td>16.633018</td>\n",
              "      <td>370280400</td>\n",
              "      <td>0.75</td>\n",
              "      <td>41.385848</td>\n",
              "      <td>16.828051</td>\n",
              "      <td>16.621093</td>\n",
              "      <td>17.023314</td>\n",
              "      <td>16.095360</td>\n",
              "      <td>16.297845</td>\n",
              "      <td>16.845817</td>\n",
              "      <td>16.945164</td>\n",
              "      <td>16.945164</td>\n",
              "      <td>1.0</td>\n",
              "      <td>1.0</td>\n",
              "      <td>0.0</td>\n",
              "      <td>0.0</td>\n",
              "      <td>0.0</td>\n",
              "      <td>1.0</td>\n",
              "      <td>1.0</td>\n",
              "      <td>0.0</td>\n",
              "      <td>0.0</td>\n",
              "      <td>0.0</td>\n",
              "      <td>0.0</td>\n",
              "      <td>156.264618</td>\n",
              "      <td>0.106441</td>\n",
              "      <td>31.376369</td>\n",
              "      <td>0.530113</td>\n",
              "      <td>0.200790</td>\n",
              "      <td>1.722370</td>\n",
              "    </tr>\n",
              "    <tr>\n",
              "      <th>2014-02-14</th>\n",
              "      <td>17.411098</td>\n",
              "      <td>272924400</td>\n",
              "      <td>0.75</td>\n",
              "      <td>48.359204</td>\n",
              "      <td>16.505418</td>\n",
              "      <td>16.448923</td>\n",
              "      <td>16.987718</td>\n",
              "      <td>16.704541</td>\n",
              "      <td>17.214834</td>\n",
              "      <td>16.811961</td>\n",
              "      <td>16.988660</td>\n",
              "      <td>16.988660</td>\n",
              "      <td>1.0</td>\n",
              "      <td>1.0</td>\n",
              "      <td>1.0</td>\n",
              "      <td>1.0</td>\n",
              "      <td>1.0</td>\n",
              "      <td>0.0</td>\n",
              "      <td>0.0</td>\n",
              "      <td>0.0</td>\n",
              "      <td>0.0</td>\n",
              "      <td>0.0</td>\n",
              "      <td>0.0</td>\n",
              "      <td>160.039078</td>\n",
              "      <td>0.108793</td>\n",
              "      <td>32.243473</td>\n",
              "      <td>0.539988</td>\n",
              "      <td>0.201472</td>\n",
              "      <td>1.713303</td>\n",
              "    </tr>\n",
              "    <tr>\n",
              "      <th>2014-02-21</th>\n",
              "      <td>16.811304</td>\n",
              "      <td>278784800</td>\n",
              "      <td>0.25</td>\n",
              "      <td>69.715503</td>\n",
              "      <td>16.662327</td>\n",
              "      <td>16.911224</td>\n",
              "      <td>16.969023</td>\n",
              "      <td>17.175138</td>\n",
              "      <td>17.179374</td>\n",
              "      <td>16.740595</td>\n",
              "      <td>17.003835</td>\n",
              "      <td>17.003835</td>\n",
              "      <td>3.0</td>\n",
              "      <td>3.0</td>\n",
              "      <td>4.0</td>\n",
              "      <td>4.0</td>\n",
              "      <td>4.0</td>\n",
              "      <td>-1.0</td>\n",
              "      <td>1.0</td>\n",
              "      <td>0.0</td>\n",
              "      <td>0.0</td>\n",
              "      <td>0.0</td>\n",
              "      <td>0.0</td>\n",
              "      <td>159.926010</td>\n",
              "      <td>0.105119</td>\n",
              "      <td>32.136200</td>\n",
              "      <td>0.523127</td>\n",
              "      <td>0.200944</td>\n",
              "      <td>1.723980</td>\n",
              "    </tr>\n",
              "    <tr>\n",
              "      <th>2014-02-28</th>\n",
              "      <td>16.842989</td>\n",
              "      <td>371968800</td>\n",
              "      <td>0.50</td>\n",
              "      <td>54.539322</td>\n",
              "      <td>17.029992</td>\n",
              "      <td>17.101526</td>\n",
              "      <td>16.756539</td>\n",
              "      <td>16.997072</td>\n",
              "      <td>16.776861</td>\n",
              "      <td>16.793024</td>\n",
              "      <td>16.975463</td>\n",
              "      <td>16.975463</td>\n",
              "      <td>2.0</td>\n",
              "      <td>2.0</td>\n",
              "      <td>2.0</td>\n",
              "      <td>2.0</td>\n",
              "      <td>2.0</td>\n",
              "      <td>0.0</td>\n",
              "      <td>0.0</td>\n",
              "      <td>0.0</td>\n",
              "      <td>0.0</td>\n",
              "      <td>0.0</td>\n",
              "      <td>0.0</td>\n",
              "      <td>162.013229</td>\n",
              "      <td>0.103961</td>\n",
              "      <td>32.493763</td>\n",
              "      <td>0.518345</td>\n",
              "      <td>0.200562</td>\n",
              "      <td>1.736045</td>\n",
              "    </tr>\n",
              "    <tr>\n",
              "      <th>...</th>\n",
              "      <td>...</td>\n",
              "      <td>...</td>\n",
              "      <td>...</td>\n",
              "      <td>...</td>\n",
              "      <td>...</td>\n",
              "      <td>...</td>\n",
              "      <td>...</td>\n",
              "      <td>...</td>\n",
              "      <td>...</td>\n",
              "      <td>...</td>\n",
              "      <td>...</td>\n",
              "      <td>...</td>\n",
              "      <td>...</td>\n",
              "      <td>...</td>\n",
              "      <td>...</td>\n",
              "      <td>...</td>\n",
              "      <td>...</td>\n",
              "      <td>...</td>\n",
              "      <td>...</td>\n",
              "      <td>...</td>\n",
              "      <td>...</td>\n",
              "      <td>...</td>\n",
              "      <td>...</td>\n",
              "      <td>...</td>\n",
              "      <td>...</td>\n",
              "      <td>...</td>\n",
              "      <td>...</td>\n",
              "      <td>...</td>\n",
              "      <td>...</td>\n",
              "    </tr>\n",
              "    <tr>\n",
              "      <th>2021-01-29</th>\n",
              "      <td>131.763107</td>\n",
              "      <td>177180600</td>\n",
              "      <td>0.00</td>\n",
              "      <td>49.876076</td>\n",
              "      <td>132.673376</td>\n",
              "      <td>133.592835</td>\n",
              "      <td>132.423924</td>\n",
              "      <td>135.966354</td>\n",
              "      <td>139.229950</td>\n",
              "      <td>132.821025</td>\n",
              "      <td>43.943581</td>\n",
              "      <td>43.943581</td>\n",
              "      <td>1.0</td>\n",
              "      <td>1.0</td>\n",
              "      <td>2.0</td>\n",
              "      <td>4.0</td>\n",
              "      <td>3.0</td>\n",
              "      <td>-1.0</td>\n",
              "      <td>1.0</td>\n",
              "      <td>-2.0</td>\n",
              "      <td>2.0</td>\n",
              "      <td>1.0</td>\n",
              "      <td>1.0</td>\n",
              "      <td>368.861908</td>\n",
              "      <td>0.357215</td>\n",
              "      <td>128.658401</td>\n",
              "      <td>1.024131</td>\n",
              "      <td>0.348798</td>\n",
              "      <td>2.537489</td>\n",
              "    </tr>\n",
              "    <tr>\n",
              "      <th>2021-02-05</th>\n",
              "      <td>136.759995</td>\n",
              "      <td>75524000</td>\n",
              "      <td>0.50</td>\n",
              "      <td>63.964723</td>\n",
              "      <td>135.109529</td>\n",
              "      <td>137.886337</td>\n",
              "      <td>132.571099</td>\n",
              "      <td>137.338501</td>\n",
              "      <td>135.282718</td>\n",
              "      <td>134.158744</td>\n",
              "      <td>44.199147</td>\n",
              "      <td>44.199147</td>\n",
              "      <td>3.0</td>\n",
              "      <td>3.0</td>\n",
              "      <td>2.0</td>\n",
              "      <td>2.0</td>\n",
              "      <td>2.0</td>\n",
              "      <td>1.0</td>\n",
              "      <td>1.0</td>\n",
              "      <td>0.0</td>\n",
              "      <td>0.0</td>\n",
              "      <td>0.0</td>\n",
              "      <td>0.0</td>\n",
              "      <td>386.444305</td>\n",
              "      <td>0.353893</td>\n",
              "      <td>135.034958</td>\n",
              "      <td>1.012775</td>\n",
              "      <td>0.349429</td>\n",
              "      <td>2.629055</td>\n",
              "    </tr>\n",
              "    <tr>\n",
              "      <th>2021-02-12</th>\n",
              "      <td>135.369995</td>\n",
              "      <td>60029300</td>\n",
              "      <td>0.50</td>\n",
              "      <td>32.966825</td>\n",
              "      <td>137.348141</td>\n",
              "      <td>135.166918</td>\n",
              "      <td>133.630086</td>\n",
              "      <td>135.637096</td>\n",
              "      <td>135.762000</td>\n",
              "      <td>135.666208</td>\n",
              "      <td>44.454624</td>\n",
              "      <td>44.454624</td>\n",
              "      <td>0.0</td>\n",
              "      <td>0.0</td>\n",
              "      <td>1.0</td>\n",
              "      <td>1.0</td>\n",
              "      <td>2.0</td>\n",
              "      <td>-1.0</td>\n",
              "      <td>1.0</td>\n",
              "      <td>0.0</td>\n",
              "      <td>0.0</td>\n",
              "      <td>-1.0</td>\n",
              "      <td>1.0</td>\n",
              "      <td>391.358215</td>\n",
              "      <td>0.345898</td>\n",
              "      <td>138.298065</td>\n",
              "      <td>0.978828</td>\n",
              "      <td>0.353380</td>\n",
              "      <td>2.602669</td>\n",
              "    </tr>\n",
              "    <tr>\n",
              "      <th>2021-02-19</th>\n",
              "      <td>129.869995</td>\n",
              "      <td>87668800</td>\n",
              "      <td>0.25</td>\n",
              "      <td>44.059420</td>\n",
              "      <td>134.287868</td>\n",
              "      <td>134.757772</td>\n",
              "      <td>134.340112</td>\n",
              "      <td>134.372339</td>\n",
              "      <td>131.795999</td>\n",
              "      <td>135.692292</td>\n",
              "      <td>44.647158</td>\n",
              "      <td>44.647158</td>\n",
              "      <td>1.0</td>\n",
              "      <td>1.0</td>\n",
              "      <td>0.0</td>\n",
              "      <td>0.0</td>\n",
              "      <td>0.0</td>\n",
              "      <td>1.0</td>\n",
              "      <td>1.0</td>\n",
              "      <td>0.0</td>\n",
              "      <td>0.0</td>\n",
              "      <td>0.0</td>\n",
              "      <td>0.0</td>\n",
              "      <td>388.756714</td>\n",
              "      <td>0.334065</td>\n",
              "      <td>135.763412</td>\n",
              "      <td>0.956591</td>\n",
              "      <td>0.349225</td>\n",
              "      <td>2.621908</td>\n",
              "    </tr>\n",
              "    <tr>\n",
              "      <th>2021-02-26</th>\n",
              "      <td>121.260002</td>\n",
              "      <td>164320000</td>\n",
              "      <td>0.25</td>\n",
              "      <td>4.784091</td>\n",
              "      <td>132.110425</td>\n",
              "      <td>130.561376</td>\n",
              "      <td>134.863287</td>\n",
              "      <td>128.226407</td>\n",
              "      <td>123.892000</td>\n",
              "      <td>131.502835</td>\n",
              "      <td>44.867160</td>\n",
              "      <td>44.867160</td>\n",
              "      <td>0.0</td>\n",
              "      <td>0.0</td>\n",
              "      <td>0.0</td>\n",
              "      <td>0.0</td>\n",
              "      <td>0.0</td>\n",
              "      <td>0.0</td>\n",
              "      <td>0.0</td>\n",
              "      <td>0.0</td>\n",
              "      <td>0.0</td>\n",
              "      <td>0.0</td>\n",
              "      <td>0.0</td>\n",
              "      <td>379.118286</td>\n",
              "      <td>0.319847</td>\n",
              "      <td>130.414703</td>\n",
              "      <td>0.929803</td>\n",
              "      <td>0.343995</td>\n",
              "      <td>2.555519</td>\n",
              "    </tr>\n",
              "  </tbody>\n",
              "</table>\n",
              "<p>356 rows × 29 columns</p>\n",
              "</div>"
            ],
            "text/plain": [
              "                 Price     Volume  target  ...  AAPL/XLK   XLK/SPY   XLY/XLP\n",
              "Date                                       ...                              \n",
              "2014-01-31   15.927006  464797200    0.00  ...  0.511693  0.200865  1.695281\n",
              "2014-02-07   16.633018  370280400    0.75  ...  0.530113  0.200790  1.722370\n",
              "2014-02-14   17.411098  272924400    0.75  ...  0.539988  0.201472  1.713303\n",
              "2014-02-21   16.811304  278784800    0.25  ...  0.523127  0.200944  1.723980\n",
              "2014-02-28   16.842989  371968800    0.50  ...  0.518345  0.200562  1.736045\n",
              "...                ...        ...     ...  ...       ...       ...       ...\n",
              "2021-01-29  131.763107  177180600    0.00  ...  1.024131  0.348798  2.537489\n",
              "2021-02-05  136.759995   75524000    0.50  ...  1.012775  0.349429  2.629055\n",
              "2021-02-12  135.369995   60029300    0.50  ...  0.978828  0.353380  2.602669\n",
              "2021-02-19  129.869995   87668800    0.25  ...  0.956591  0.349225  2.621908\n",
              "2021-02-26  121.260002  164320000    0.25  ...  0.929803  0.343995  2.555519\n",
              "\n",
              "[356 rows x 29 columns]"
            ]
          },
          "metadata": {
            "tags": []
          },
          "execution_count": 25
        }
      ]
    },
    {
      "cell_type": "code",
      "metadata": {
        "id": "ZTHWhBZMTrL7",
        "colab": {
          "base_uri": "https://localhost:8080/",
          "height": 296
        },
        "outputId": "07f7929b-8c17-4c1d-de0a-07c2f403a532"
      },
      "source": [
        "sns.histplot(data.target)"
      ],
      "execution_count": 26,
      "outputs": [
        {
          "output_type": "execute_result",
          "data": {
            "text/plain": [
              "<matplotlib.axes._subplots.AxesSubplot at 0x7f7fcf9d11d0>"
            ]
          },
          "metadata": {
            "tags": []
          },
          "execution_count": 26
        },
        {
          "output_type": "display_data",
          "data": {
            "image/png": "[encoded data removed]",
            "text/plain": [
              "<Figure size 432x288 with 1 Axes>"
            ]
          },
          "metadata": {
            "tags": [],
            "needs_background": "light"
          }
        }
      ]
    },
    {
      "cell_type": "code",
      "metadata": {
        "id": "yRYTObq40Xv0"
      },
      "source": [
        "X, y = data.drop(['target'], axis = 1), data['target']"
      ],
      "execution_count": 27,
      "outputs": []
    },
    {
      "cell_type": "code",
      "metadata": {
        "id": "sqsZPyMNRYXF"
      },
      "source": [
        "model = lgb.LGBMRegressor(boosting_type= 'gbdt',\n",
        "                          objective= 'regression',\n",
        "                          max_depth=5,\n",
        "                          learning_rate=0.5, \n",
        "                          n_estimators=2000, \n",
        "                          n_jobs=-1,\n",
        "                          num_leaves=31,\n",
        "                          colsample_bytree = 0.01,\n",
        "                          reg_alpha=0.01)"
      ],
      "execution_count": 28,
      "outputs": []
    },
    {
      "cell_type": "code",
      "metadata": {
        "id": "JTr1K396RYgG"
      },
      "source": [
        "cv = model_selection.TimeSeriesSplit(8)"
      ],
      "execution_count": 29,
      "outputs": []
    },
    {
      "cell_type": "code",
      "metadata": {
        "id": "cKBL5xIPSDl0"
      },
      "source": [
        "# Metric Spearman Rank Correlation\n",
        "def spearman(y_true, y_pred): \n",
        "    return spearmanr(y_pred, y_true).correlation"
      ],
      "execution_count": 30,
      "outputs": []
    },
    {
      "cell_type": "code",
      "metadata": {
        "id": "BwL8kXXQRYk9"
      },
      "source": [
        "class TimeSeriesSplitGroups(_BaseKFold):\n",
        "    def __init__(self, n_splits=8):\n",
        "        super().__init__(n_splits, shuffle=False, random_state=None)\n",
        "\n",
        "    def split(self, X, y=None, groups=None):\n",
        "        X, y, groups = indexable(X, y, groups)\n",
        "        n_samples = _num_samples(X)\n",
        "        n_splits = self.n_splits\n",
        "        n_folds = n_splits + 1\n",
        "        group_list = np.unique(groups)\n",
        "        n_groups = len(group_list)\n",
        "        if n_folds > n_groups:\n",
        "            raise ValueError(\n",
        "                (\"Cannot have number of folds ={0} greater\"\n",
        "                 \" than the number of samples: {1}.\").format(n_folds,\n",
        "                                                             n_groups))\n",
        "        indices = np.arange(n_samples)\n",
        "        test_size = (n_groups // n_folds)\n",
        "        test_starts = range(test_size + n_groups % n_folds,\n",
        "                            n_groups, test_size)\n",
        "        test_starts = list(test_starts)[::-1]\n",
        "        for test_start in test_starts:\n",
        "            \n",
        "            yield (indices[groups.isin(group_list[:test_start])],\n",
        "                   indices[groups.isin(group_list[test_start:test_start + test_size])])"
      ],
      "execution_count": 31,
      "outputs": []
    },
    {
      "cell_type": "code",
      "metadata": {
        "colab": {
          "base_uri": "https://localhost:8080/"
        },
        "id": "9Jzv18APRkgI",
        "outputId": "e4791ecc-03de-4cbb-9eb3-0322f3e8501d"
      },
      "source": [
        "print(np.mean(\n",
        "        model_selection.cross_val_score(\n",
        "        model,\n",
        "        X,\n",
        "        y,\n",
        "        cv=TimeSeriesSplitGroups(8),\n",
        "        n_jobs=1,\n",
        "        groups=X.index,\n",
        "        scoring=metrics.make_scorer(spearman, greater_is_better=True)\n",
        "    )))\n",
        "print(cv)"
      ],
      "execution_count": 32,
      "outputs": [
        {
          "output_type": "stream",
          "text": [
            "0.3314616226256239\n",
            "TimeSeriesSplit(max_train_size=None, n_splits=8)\n"
          ],
          "name": "stdout"
        }
      ]
    },
    {
      "cell_type": "code",
      "metadata": {
        "colab": {
          "base_uri": "https://localhost:8080/"
        },
        "id": "ks60sl9lTL8I",
        "outputId": "56dc04c9-adb6-4d35-e86f-ad8ca543ba5c"
      },
      "source": [
        "model.fit(X,y)"
      ],
      "execution_count": 33,
      "outputs": [
        {
          "output_type": "execute_result",
          "data": {
            "text/plain": [
              "LGBMRegressor(boosting_type='gbdt', class_weight=None, colsample_bytree=0.01,\n",
              "              importance_type='split', learning_rate=0.5, max_depth=5,\n",
              "              min_child_samples=20, min_child_weight=0.001, min_split_gain=0.0,\n",
              "              n_estimators=2000, n_jobs=-1, num_leaves=31,\n",
              "              objective='regression', random_state=None, reg_alpha=0.01,\n",
              "              reg_lambda=0.0, silent=True, subsample=1.0,\n",
              "              subsample_for_bin=200000, subsample_freq=0)"
            ]
          },
          "metadata": {
            "tags": []
          },
          "execution_count": 33
        }
      ]
    },
    {
      "cell_type": "code",
      "metadata": {
        "id": "vdix4ZZ5WUrt",
        "colab": {
          "base_uri": "https://localhost:8080/",
          "height": 530
        },
        "outputId": "dc96a6c7-90e9-407e-93bf-9af6c8190713"
      },
      "source": [
        "fig, ax = plt.subplots(1,1,figsize=(12,8))\n",
        "\n",
        "lgb.plot_importance(model, ax=ax)"
      ],
      "execution_count": 34,
      "outputs": [
        {
          "output_type": "execute_result",
          "data": {
            "text/plain": [
              "<matplotlib.axes._subplots.AxesSubplot at 0x7f7fcf9f4f50>"
            ]
          },
          "metadata": {
            "tags": []
          },
          "execution_count": 34
        },
        {
          "output_type": "display_data",
          "data": {
            "image/png": "[encoded data removed]",
            "text/plain": [
              "<Figure size 864x576 with 1 Axes>"
            ]
          },
          "metadata": {
            "tags": [],
            "needs_background": "light"
          }
        }
      ]
    },
    {
      "cell_type": "code",
      "metadata": {
        "id": "YcKBNwl3ZPeo"
      },
      "source": [
        ""
      ],
      "execution_count": null,
      "outputs": []
    },
    {
      "cell_type": "code",
      "metadata": {
        "id": "6BfsTdf6ZPic"
      },
      "source": [
        ""
      ],
      "execution_count": null,
      "outputs": []
    },
    {
      "cell_type": "markdown",
      "metadata": {
        "id": "YJPUOpt8S6R1"
      },
      "source": [
        "## Let's run qiuck analytics"
      ]
    },
    {
      "cell_type": "code",
      "metadata": {
        "id": "0tUxt41oSy0B"
      },
      "source": [
        "train_data = data[:900]\n",
        "test_data = data[900:]"
      ],
      "execution_count": null,
      "outputs": []
    },
    {
      "cell_type": "code",
      "metadata": {
        "id": "tVi6zKRMTyTl"
      },
      "source": [
        "X_train = train_data.drop(['target'], axis = 1)\n",
        "X_test = test_data.drop(['target'], axis = 1)\n",
        "\n",
        "y_train = train_data['target']\n",
        "y_test = test_data['target']"
      ],
      "execution_count": null,
      "outputs": []
    },
    {
      "cell_type": "code",
      "metadata": {
        "colab": {
          "base_uri": "https://localhost:8080/"
        },
        "id": "mKislyUrTdP-",
        "outputId": "69d91699-68e1-4bf6-b4e3-954a93219d09"
      },
      "source": [
        "model.fit(X_train, y_train)"
      ],
      "execution_count": null,
      "outputs": [
        {
          "output_type": "execute_result",
          "data": {
            "text/plain": [
              "LGBMRegressor(boosting_type='gbdt', class_weight=None, colsample_bytree=0.01,\n",
              "              importance_type='split', learning_rate=0.7, max_depth=5,\n",
              "              min_child_samples=20, min_child_weight=0.001, min_split_gain=0.0,\n",
              "              n_estimators=2000, n_jobs=-1, num_leaves=31,\n",
              "              objective='regression', random_state=None, reg_alpha=0.01,\n",
              "              reg_lambda=0.0, silent=True, subsample=1.0,\n",
              "              subsample_for_bin=200000, subsample_freq=0)"
            ]
          },
          "metadata": {
            "tags": []
          },
          "execution_count": 35
        }
      ]
    },
    {
      "cell_type": "code",
      "metadata": {
        "id": "6BeWMg39WYOz"
      },
      "source": [
        "PREDICTION_NAME = 'prediction'\n",
        "TARGET_NAME = 'target'\n"
      ],
      "execution_count": null,
      "outputs": []
    },
    {
      "cell_type": "code",
      "metadata": {
        "colab": {
          "base_uri": "https://localhost:8080/"
        },
        "id": "Z6gmG-lvR-sH",
        "outputId": "8b3559d8-f0cb-422a-b730-dbdb2aea85aa"
      },
      "source": [
        "train_data[PREDICTION_NAME] = model.predict(X_train)\n",
        "test_data[PREDICTION_NAME] = model.predict(X_test)\n",
        "\n"
      ],
      "execution_count": null,
      "outputs": [
        {
          "output_type": "stream",
          "text": [
            "/usr/local/lib/python3.7/dist-packages/ipykernel_launcher.py:1: SettingWithCopyWarning: \n",
            "A value is trying to be set on a copy of a slice from a DataFrame.\n",
            "Try using .loc[row_indexer,col_indexer] = value instead\n",
            "\n",
            "See the caveats in the documentation: https://pandas.pydata.org/pandas-docs/stable/user_guide/indexing.html#returning-a-view-versus-a-copy\n",
            "  \"\"\"Entry point for launching an IPython kernel.\n",
            "/usr/local/lib/python3.7/dist-packages/ipykernel_launcher.py:2: SettingWithCopyWarning: \n",
            "A value is trying to be set on a copy of a slice from a DataFrame.\n",
            "Try using .loc[row_indexer,col_indexer] = value instead\n",
            "\n",
            "See the caveats in the documentation: https://pandas.pydata.org/pandas-docs/stable/user_guide/indexing.html#returning-a-view-versus-a-copy\n",
            "  \n"
          ],
          "name": "stderr"
        }
      ]
    },
    {
      "cell_type": "code",
      "metadata": {
        "id": "HpAMGR6IXjfT"
      },
      "source": [
        "# Metric Spearman Rank Correlation\n",
        "def spearman(y_true, y_pred): \n",
        "    return spearmanr(y_pred, y_true).correlation"
      ],
      "execution_count": null,
      "outputs": []
    },
    {
      "cell_type": "code",
      "metadata": {
        "id": "DgfpFBpWYvg6"
      },
      "source": [
        "def score(df):\n",
        "    '''Takes df and calculates spearm correlation from pre-defined cols'''\n",
        "    # method=\"first\" breaks ties based on order in array\n",
        "    return np.corrcoef(\n",
        "        df[TARGET_NAME],\n",
        "        df[PREDICTION_NAME].rank(pct=True, method=\"first\")\n",
        "    )[0,1]\n"
      ],
      "execution_count": null,
      "outputs": []
    },
    {
      "cell_type": "code",
      "metadata": {
        "id": "4Rq3omTyyMvP"
      },
      "source": [
        "def score(df):\n",
        "    '''Takes df and calculates spearm correlation from pre-defined cols'''\n",
        "    # method=\"first\" breaks ties based on order in array\n",
        "    return spearmanr(df[TARGET_NAME],\n",
        "        df[PREDICTION_NAME]).correlation\n",
        "\n",
        "def run_analytics(era_scores):\n",
        "    print(f\"Mean Correlation: {era_scores.mean():.4f}\")\n",
        "    print(f\"Median Correlation: {era_scores.median():.4f}\")\n",
        "    print(f\"Standard Deviation: {era_scores.std():.4f}\")\n",
        "    print('\\n')\n",
        "    print(f\"Mean Pseudo-Sharpe: {era_scores.mean()/era_scores.std():.4f}\")\n",
        "    print(f\"Median Pseudo-Sharpe: {era_scores.median()/era_scores.std():.4f}\")\n",
        "    print('\\n')\n",
        "    print(f'Hit Rate (% positive eras): {era_scores.apply(lambda x: np.sign(x)).value_counts()[1]/len(era_scores):.2%}')\n",
        "\n",
        "    era_scores.rolling(10).mean().plot(kind='line', title='Rolling Per Era Correlation Mean', figsize=(15,4))\n",
        "    plt.axhline(y=0.0, color=\"r\", linestyle=\"--\"); plt.show()\n",
        "\n",
        "    era_scores.cumsum().plot(title='Cumulative Sum of Era Scores', figsize=(15,4))\n",
        "    plt.axhline(y=0.0, color=\"r\", linestyle=\"--\"); plt.show()"
      ],
      "execution_count": null,
      "outputs": []
    },
    {
      "cell_type": "code",
      "metadata": {
        "id": "6RFCEqwvPNtb"
      },
      "source": [
        "# spearman scores by era\n",
        "train_era_scores = train_data.groupby(train_data.index).apply(score)\n"
      ],
      "execution_count": null,
      "outputs": []
    },
    {
      "cell_type": "code",
      "metadata": {
        "id": "ydp58JOCyMzz",
        "colab": {
          "base_uri": "https://localhost:8080/",
          "height": 715
        },
        "outputId": "7472e2cc-64dc-41ff-8882-90fe13fd9aae"
      },
      "source": [
        "#train scores, in-sample and will be significantly overfit\n",
        "run_analytics(train_era_scores)"
      ],
      "execution_count": null,
      "outputs": [
        {
          "output_type": "stream",
          "text": [
            "Mean Correlation: nan\n",
            "Median Correlation: nan\n",
            "Standard Deviation: nan\n",
            "\n",
            "\n",
            "Mean Pseudo-Sharpe: nan\n",
            "Median Pseudo-Sharpe: nan\n",
            "\n",
            "\n"
          ],
          "name": "stdout"
        },
        {
          "output_type": "error",
          "ename": "KeyError",
          "evalue": "ignored",
          "traceback": [
            "\u001b[0;31m---------------------------------------------------------------------------\u001b[0m",
            "\u001b[0;31mKeyError\u001b[0m                                  Traceback (most recent call last)",
            "\u001b[0;32m/usr/local/lib/python3.7/dist-packages/pandas/core/indexes/base.py\u001b[0m in \u001b[0;36mget_loc\u001b[0;34m(self, key, method, tolerance)\u001b[0m\n\u001b[1;32m   2897\u001b[0m             \u001b[0;32mtry\u001b[0m\u001b[0;34m:\u001b[0m\u001b[0;34m\u001b[0m\u001b[0;34m\u001b[0m\u001b[0m\n\u001b[0;32m-> 2898\u001b[0;31m                 \u001b[0;32mreturn\u001b[0m \u001b[0mself\u001b[0m\u001b[0;34m.\u001b[0m\u001b[0m_engine\u001b[0m\u001b[0;34m.\u001b[0m\u001b[0mget_loc\u001b[0m\u001b[0;34m(\u001b[0m\u001b[0mcasted_key\u001b[0m\u001b[0;34m)\u001b[0m\u001b[0;34m\u001b[0m\u001b[0;34m\u001b[0m\u001b[0m\n\u001b[0m\u001b[1;32m   2899\u001b[0m             \u001b[0;32mexcept\u001b[0m \u001b[0mKeyError\u001b[0m \u001b[0;32mas\u001b[0m \u001b[0merr\u001b[0m\u001b[0;34m:\u001b[0m\u001b[0;34m\u001b[0m\u001b[0;34m\u001b[0m\u001b[0m\n",
            "\u001b[0;32mpandas/_libs/index.pyx\u001b[0m in \u001b[0;36mpandas._libs.index.IndexEngine.get_loc\u001b[0;34m()\u001b[0m\n",
            "\u001b[0;32mpandas/_libs/index.pyx\u001b[0m in \u001b[0;36mpandas._libs.index.IndexEngine.get_loc\u001b[0;34m()\u001b[0m\n",
            "\u001b[0;32mpandas/_libs/hashtable_class_helper.pxi\u001b[0m in \u001b[0;36mpandas._libs.hashtable.Float64HashTable.get_item\u001b[0;34m()\u001b[0m\n",
            "\u001b[0;32mpandas/_libs/hashtable_class_helper.pxi\u001b[0m in \u001b[0;36mpandas._libs.hashtable.Float64HashTable.get_item\u001b[0;34m()\u001b[0m\n",
            "\u001b[0;31mKeyError\u001b[0m: 1.0",
            "\nThe above exception was the direct cause of the following exception:\n",
            "\u001b[0;31mKeyError\u001b[0m                                  Traceback (most recent call last)",
            "\u001b[0;32m<ipython-input-75-6d10f3c5a9c8>\u001b[0m in \u001b[0;36m<module>\u001b[0;34m()\u001b[0m\n\u001b[1;32m      1\u001b[0m \u001b[0;31m#train scores, in-sample and will be significantly overfit\u001b[0m\u001b[0;34m\u001b[0m\u001b[0;34m\u001b[0m\u001b[0;34m\u001b[0m\u001b[0m\n\u001b[0;32m----> 2\u001b[0;31m \u001b[0mrun_analytics\u001b[0m\u001b[0;34m(\u001b[0m\u001b[0mtrain_era_scores\u001b[0m\u001b[0;34m)\u001b[0m\u001b[0;34m\u001b[0m\u001b[0;34m\u001b[0m\u001b[0m\n\u001b[0m",
            "\u001b[0;32m<ipython-input-73-fa9f5a26ebd9>\u001b[0m in \u001b[0;36mrun_analytics\u001b[0;34m(era_scores)\u001b[0m\n\u001b[1;32m     13\u001b[0m     \u001b[0mprint\u001b[0m\u001b[0;34m(\u001b[0m\u001b[0;34mf\"Median Pseudo-Sharpe: {era_scores.median()/era_scores.std():.4f}\"\u001b[0m\u001b[0;34m)\u001b[0m\u001b[0;34m\u001b[0m\u001b[0;34m\u001b[0m\u001b[0m\n\u001b[1;32m     14\u001b[0m     \u001b[0mprint\u001b[0m\u001b[0;34m(\u001b[0m\u001b[0;34m'\\n'\u001b[0m\u001b[0;34m)\u001b[0m\u001b[0;34m\u001b[0m\u001b[0;34m\u001b[0m\u001b[0m\n\u001b[0;32m---> 15\u001b[0;31m     \u001b[0mprint\u001b[0m\u001b[0;34m(\u001b[0m\u001b[0;34mf'Hit Rate (% positive eras): {era_scores.apply(lambda x: np.sign(x)).value_counts()[1]/len(era_scores):.2%}'\u001b[0m\u001b[0;34m)\u001b[0m\u001b[0;34m\u001b[0m\u001b[0;34m\u001b[0m\u001b[0m\n\u001b[0m\u001b[1;32m     16\u001b[0m \u001b[0;34m\u001b[0m\u001b[0m\n\u001b[1;32m     17\u001b[0m     \u001b[0mera_scores\u001b[0m\u001b[0;34m.\u001b[0m\u001b[0mrolling\u001b[0m\u001b[0;34m(\u001b[0m\u001b[0;36m10\u001b[0m\u001b[0;34m)\u001b[0m\u001b[0;34m.\u001b[0m\u001b[0mmean\u001b[0m\u001b[0;34m(\u001b[0m\u001b[0;34m)\u001b[0m\u001b[0;34m.\u001b[0m\u001b[0mplot\u001b[0m\u001b[0;34m(\u001b[0m\u001b[0mkind\u001b[0m\u001b[0;34m=\u001b[0m\u001b[0;34m'line'\u001b[0m\u001b[0;34m,\u001b[0m \u001b[0mtitle\u001b[0m\u001b[0;34m=\u001b[0m\u001b[0;34m'Rolling Per Era Correlation Mean'\u001b[0m\u001b[0;34m,\u001b[0m \u001b[0mfigsize\u001b[0m\u001b[0;34m=\u001b[0m\u001b[0;34m(\u001b[0m\u001b[0;36m15\u001b[0m\u001b[0;34m,\u001b[0m\u001b[0;36m4\u001b[0m\u001b[0;34m)\u001b[0m\u001b[0;34m)\u001b[0m\u001b[0;34m\u001b[0m\u001b[0;34m\u001b[0m\u001b[0m\n",
            "\u001b[0;32m/usr/local/lib/python3.7/dist-packages/pandas/core/series.py\u001b[0m in \u001b[0;36m__getitem__\u001b[0;34m(self, key)\u001b[0m\n\u001b[1;32m    880\u001b[0m \u001b[0;34m\u001b[0m\u001b[0m\n\u001b[1;32m    881\u001b[0m         \u001b[0;32melif\u001b[0m \u001b[0mkey_is_scalar\u001b[0m\u001b[0;34m:\u001b[0m\u001b[0;34m\u001b[0m\u001b[0;34m\u001b[0m\u001b[0m\n\u001b[0;32m--> 882\u001b[0;31m             \u001b[0;32mreturn\u001b[0m \u001b[0mself\u001b[0m\u001b[0;34m.\u001b[0m\u001b[0m_get_value\u001b[0m\u001b[0;34m(\u001b[0m\u001b[0mkey\u001b[0m\u001b[0;34m)\u001b[0m\u001b[0;34m\u001b[0m\u001b[0;34m\u001b[0m\u001b[0m\n\u001b[0m\u001b[1;32m    883\u001b[0m \u001b[0;34m\u001b[0m\u001b[0m\n\u001b[1;32m    884\u001b[0m         \u001b[0;32mif\u001b[0m \u001b[0mis_hashable\u001b[0m\u001b[0;34m(\u001b[0m\u001b[0mkey\u001b[0m\u001b[0;34m)\u001b[0m\u001b[0;34m:\u001b[0m\u001b[0;34m\u001b[0m\u001b[0;34m\u001b[0m\u001b[0m\n",
            "\u001b[0;32m/usr/local/lib/python3.7/dist-packages/pandas/core/series.py\u001b[0m in \u001b[0;36m_get_value\u001b[0;34m(self, label, takeable)\u001b[0m\n\u001b[1;32m    988\u001b[0m \u001b[0;34m\u001b[0m\u001b[0m\n\u001b[1;32m    989\u001b[0m         \u001b[0;31m# Similar to Index.get_value, but we do not fall back to positional\u001b[0m\u001b[0;34m\u001b[0m\u001b[0;34m\u001b[0m\u001b[0;34m\u001b[0m\u001b[0m\n\u001b[0;32m--> 990\u001b[0;31m         \u001b[0mloc\u001b[0m \u001b[0;34m=\u001b[0m \u001b[0mself\u001b[0m\u001b[0;34m.\u001b[0m\u001b[0mindex\u001b[0m\u001b[0;34m.\u001b[0m\u001b[0mget_loc\u001b[0m\u001b[0;34m(\u001b[0m\u001b[0mlabel\u001b[0m\u001b[0;34m)\u001b[0m\u001b[0;34m\u001b[0m\u001b[0;34m\u001b[0m\u001b[0m\n\u001b[0m\u001b[1;32m    991\u001b[0m         \u001b[0;32mreturn\u001b[0m \u001b[0mself\u001b[0m\u001b[0;34m.\u001b[0m\u001b[0mindex\u001b[0m\u001b[0;34m.\u001b[0m\u001b[0m_get_values_for_loc\u001b[0m\u001b[0;34m(\u001b[0m\u001b[0mself\u001b[0m\u001b[0;34m,\u001b[0m \u001b[0mloc\u001b[0m\u001b[0;34m,\u001b[0m \u001b[0mlabel\u001b[0m\u001b[0;34m)\u001b[0m\u001b[0;34m\u001b[0m\u001b[0;34m\u001b[0m\u001b[0m\n\u001b[1;32m    992\u001b[0m \u001b[0;34m\u001b[0m\u001b[0m\n",
            "\u001b[0;32m/usr/local/lib/python3.7/dist-packages/pandas/core/indexes/numeric.py\u001b[0m in \u001b[0;36mget_loc\u001b[0;34m(self, key, method, tolerance)\u001b[0m\n\u001b[1;32m    422\u001b[0m             \u001b[0;32mreturn\u001b[0m \u001b[0mnan_idxs\u001b[0m\u001b[0;34m\u001b[0m\u001b[0;34m\u001b[0m\u001b[0m\n\u001b[1;32m    423\u001b[0m \u001b[0;34m\u001b[0m\u001b[0m\n\u001b[0;32m--> 424\u001b[0;31m         \u001b[0;32mreturn\u001b[0m \u001b[0msuper\u001b[0m\u001b[0;34m(\u001b[0m\u001b[0;34m)\u001b[0m\u001b[0;34m.\u001b[0m\u001b[0mget_loc\u001b[0m\u001b[0;34m(\u001b[0m\u001b[0mkey\u001b[0m\u001b[0;34m,\u001b[0m \u001b[0mmethod\u001b[0m\u001b[0;34m=\u001b[0m\u001b[0mmethod\u001b[0m\u001b[0;34m,\u001b[0m \u001b[0mtolerance\u001b[0m\u001b[0;34m=\u001b[0m\u001b[0mtolerance\u001b[0m\u001b[0;34m)\u001b[0m\u001b[0;34m\u001b[0m\u001b[0;34m\u001b[0m\u001b[0m\n\u001b[0m\u001b[1;32m    425\u001b[0m \u001b[0;34m\u001b[0m\u001b[0m\n\u001b[1;32m    426\u001b[0m     \u001b[0;34m@\u001b[0m\u001b[0mcache_readonly\u001b[0m\u001b[0;34m\u001b[0m\u001b[0;34m\u001b[0m\u001b[0m\n",
            "\u001b[0;32m/usr/local/lib/python3.7/dist-packages/pandas/core/indexes/base.py\u001b[0m in \u001b[0;36mget_loc\u001b[0;34m(self, key, method, tolerance)\u001b[0m\n\u001b[1;32m   2898\u001b[0m                 \u001b[0;32mreturn\u001b[0m \u001b[0mself\u001b[0m\u001b[0;34m.\u001b[0m\u001b[0m_engine\u001b[0m\u001b[0;34m.\u001b[0m\u001b[0mget_loc\u001b[0m\u001b[0;34m(\u001b[0m\u001b[0mcasted_key\u001b[0m\u001b[0;34m)\u001b[0m\u001b[0;34m\u001b[0m\u001b[0;34m\u001b[0m\u001b[0m\n\u001b[1;32m   2899\u001b[0m             \u001b[0;32mexcept\u001b[0m \u001b[0mKeyError\u001b[0m \u001b[0;32mas\u001b[0m \u001b[0merr\u001b[0m\u001b[0;34m:\u001b[0m\u001b[0;34m\u001b[0m\u001b[0;34m\u001b[0m\u001b[0m\n\u001b[0;32m-> 2900\u001b[0;31m                 \u001b[0;32mraise\u001b[0m \u001b[0mKeyError\u001b[0m\u001b[0;34m(\u001b[0m\u001b[0mkey\u001b[0m\u001b[0;34m)\u001b[0m \u001b[0;32mfrom\u001b[0m \u001b[0merr\u001b[0m\u001b[0;34m\u001b[0m\u001b[0;34m\u001b[0m\u001b[0m\n\u001b[0m\u001b[1;32m   2901\u001b[0m \u001b[0;34m\u001b[0m\u001b[0m\n\u001b[1;32m   2902\u001b[0m         \u001b[0;32mif\u001b[0m \u001b[0mtolerance\u001b[0m \u001b[0;32mis\u001b[0m \u001b[0;32mnot\u001b[0m \u001b[0;32mNone\u001b[0m\u001b[0;34m:\u001b[0m\u001b[0;34m\u001b[0m\u001b[0;34m\u001b[0m\u001b[0m\n",
            "\u001b[0;31mKeyError\u001b[0m: 1"
          ]
        }
      ]
    },
    {
      "cell_type": "code",
      "metadata": {
        "id": "a2BgH9sdUljC"
      },
      "source": [
        "run_analytics(train_era_scores)"
      ],
      "execution_count": null,
      "outputs": []
    }
  ]
}